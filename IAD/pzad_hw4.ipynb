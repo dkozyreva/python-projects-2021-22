{
  "metadata": {
    "kernelspec": {
      "language": "python",
      "display_name": "Python 3",
      "name": "python3"
    },
    "language_info": {
      "name": "python",
      "version": "3.7.12",
      "mimetype": "text/x-python",
      "codemirror_mode": {
        "name": "ipython",
        "version": 3
      },
      "pygments_lexer": "ipython3",
      "nbconvert_exporter": "python",
      "file_extension": ".py"
    },
    "colab": {
      "name": "notebookc71cdfb7b7.ipynb",
      "provenance": []
    }
  },
  "nbformat_minor": 0,
  "nbformat": 4,
  "cells": [
    {
      "cell_type": "markdown",
      "source": [
        "<center><img src=\"https://github.com/hse-ds/iad-applied-ds/blob/master/2021/hw/hw1/img/logo_hse.png?raw=1\" width=\"1000\"></center>\n",
        "\n",
        "<h1><center>Прикладные задачи анализа данных</center></h1>\n",
        "<h2><center>Домашнее задание 4: рекомендательные системы</center></h2>"
      ],
      "metadata": {
        "id": "ExuV3ktSQYrH"
      }
    },
    {
      "cell_type": "markdown",
      "source": [
        "# Введение\n",
        "\n",
        "В этом задании Вы продолжите работать с данными из семинара [Articles Sharing and Reading from CI&T Deskdrop](https://www.kaggle.com/gspmoreira/articles-sharing-reading-from-cit-deskdrop)."
      ],
      "metadata": {
        "id": "ef6180WvQbD-"
      }
    },
    {
      "cell_type": "markdown",
      "source": [
        "# Загрузка и предобработка данных"
      ],
      "metadata": {
        "id": "nSV_mxD9TciM"
      }
    },
    {
      "cell_type": "code",
      "source": [
        "import pandas as pd\n",
        "import numpy as np\n",
        "import math\n",
        "import re\n",
        "import nltk"
      ],
      "metadata": {
        "id": "M5mH3ZolSlcm",
        "execution": {
          "iopub.status.busy": "2022-06-09T09:51:20.790098Z",
          "iopub.execute_input": "2022-06-09T09:51:20.791289Z",
          "iopub.status.idle": "2022-06-09T09:51:22.386147Z",
          "shell.execute_reply.started": "2022-06-09T09:51:20.791162Z",
          "shell.execute_reply": "2022-06-09T09:51:22.385112Z"
        },
        "trusted": true
      },
      "execution_count": 1,
      "outputs": []
    },
    {
      "cell_type": "markdown",
      "source": [
        "Загрузим данные и проведем предобраотку данных как на семинаре."
      ],
      "metadata": {
        "id": "PRQVuRvER0hd"
      }
    },
    {
      "cell_type": "code",
      "source": [
        "from google.colab import drive\n",
        "drive.mount('/content/drive')"
      ],
      "metadata": {
        "colab": {
          "base_uri": "https://localhost:8080/"
        },
        "id": "Mgfvkr4O8AK3",
        "outputId": "64b3d38f-1bdd-4777-a51a-1dc4388fda2e"
      },
      "execution_count": 2,
      "outputs": [
        {
          "output_type": "stream",
          "name": "stdout",
          "text": [
            "Mounted at /content/drive\n"
          ]
        }
      ]
    },
    {
      "cell_type": "code",
      "source": [
        "! cd\n",
        "! unzip ./drive/MyDrive/dataset/arc1.zip && rm ./drive/MyDrive/dataset/arc1.zip\n",
        "! unzip ./drive/MyDrive/dataset/arc2.zip && rm ./drive/MyDrive/dataset/arc2.zip"
      ],
      "metadata": {
        "colab": {
          "base_uri": "https://localhost:8080/"
        },
        "id": "MrOGs7ev8Zn9",
        "outputId": "6024c981-4894-4bd2-f9d0-c5e7cb4771d3"
      },
      "execution_count": 12,
      "outputs": [
        {
          "output_type": "stream",
          "name": "stdout",
          "text": [
            "Archive:  ./drive/MyDrive/dataset/arc1.zip\n",
            "  inflating: articles_embeddings.pickle  \n",
            "  inflating: articles_metadata.csv   \n",
            "  inflating: clicks/clicks/clicks_hour_000.csv  \n",
            "  inflating: clicks/clicks/clicks_hour_001.csv  \n",
            "  inflating: clicks/clicks/clicks_hour_002.csv  \n",
            "  inflating: clicks/clicks/clicks_hour_003.csv  \n",
            "  inflating: clicks/clicks/clicks_hour_004.csv  \n",
            "  inflating: clicks/clicks/clicks_hour_005.csv  \n",
            "  inflating: clicks/clicks/clicks_hour_006.csv  \n",
            "  inflating: clicks/clicks/clicks_hour_007.csv  \n",
            "  inflating: clicks/clicks/clicks_hour_008.csv  \n",
            "  inflating: clicks/clicks/clicks_hour_009.csv  \n",
            "  inflating: clicks/clicks/clicks_hour_010.csv  \n",
            "  inflating: clicks/clicks/clicks_hour_011.csv  \n",
            "  inflating: clicks/clicks/clicks_hour_012.csv  \n",
            "  inflating: clicks/clicks/clicks_hour_013.csv  \n",
            "  inflating: clicks/clicks/clicks_hour_014.csv  \n",
            "  inflating: clicks/clicks/clicks_hour_015.csv  \n",
            "  inflating: clicks/clicks/clicks_hour_016.csv  \n",
            "  inflating: clicks/clicks/clicks_hour_017.csv  \n",
            "  inflating: clicks/clicks/clicks_hour_018.csv  \n",
            "  inflating: clicks/clicks/clicks_hour_019.csv  \n",
            "  inflating: clicks/clicks/clicks_hour_020.csv  \n",
            "  inflating: clicks/clicks/clicks_hour_021.csv  \n",
            "  inflating: clicks/clicks/clicks_hour_022.csv  \n",
            "  inflating: clicks/clicks/clicks_hour_023.csv  \n",
            "  inflating: clicks/clicks/clicks_hour_024.csv  \n",
            "  inflating: clicks/clicks/clicks_hour_025.csv  \n",
            "  inflating: clicks/clicks/clicks_hour_026.csv  \n",
            "  inflating: clicks/clicks/clicks_hour_027.csv  \n",
            "  inflating: clicks/clicks/clicks_hour_028.csv  \n",
            "  inflating: clicks/clicks/clicks_hour_029.csv  \n",
            "  inflating: clicks/clicks/clicks_hour_030.csv  \n",
            "  inflating: clicks/clicks/clicks_hour_031.csv  \n",
            "  inflating: clicks/clicks/clicks_hour_032.csv  \n",
            "  inflating: clicks/clicks/clicks_hour_033.csv  \n",
            "  inflating: clicks/clicks/clicks_hour_034.csv  \n",
            "  inflating: clicks/clicks/clicks_hour_035.csv  \n",
            "  inflating: clicks/clicks/clicks_hour_036.csv  \n",
            "  inflating: clicks/clicks/clicks_hour_037.csv  \n",
            "  inflating: clicks/clicks/clicks_hour_038.csv  \n",
            "  inflating: clicks/clicks/clicks_hour_039.csv  \n",
            "  inflating: clicks/clicks/clicks_hour_040.csv  \n",
            "  inflating: clicks/clicks/clicks_hour_041.csv  \n",
            "  inflating: clicks/clicks/clicks_hour_042.csv  \n",
            "  inflating: clicks/clicks/clicks_hour_043.csv  \n",
            "  inflating: clicks/clicks/clicks_hour_044.csv  \n",
            "  inflating: clicks/clicks/clicks_hour_045.csv  \n",
            "  inflating: clicks/clicks/clicks_hour_046.csv  \n",
            "  inflating: clicks/clicks/clicks_hour_047.csv  \n",
            "  inflating: clicks/clicks/clicks_hour_048.csv  \n",
            "  inflating: clicks/clicks/clicks_hour_049.csv  \n",
            "  inflating: clicks/clicks/clicks_hour_050.csv  \n",
            "  inflating: clicks/clicks/clicks_hour_051.csv  \n",
            "  inflating: clicks/clicks/clicks_hour_052.csv  \n",
            "  inflating: clicks/clicks/clicks_hour_053.csv  \n",
            "  inflating: clicks/clicks/clicks_hour_054.csv  \n",
            "  inflating: clicks/clicks/clicks_hour_055.csv  \n",
            "  inflating: clicks/clicks/clicks_hour_056.csv  \n",
            "  inflating: clicks/clicks/clicks_hour_057.csv  \n",
            "  inflating: clicks/clicks/clicks_hour_058.csv  \n",
            "  inflating: clicks/clicks/clicks_hour_059.csv  \n",
            "  inflating: clicks/clicks/clicks_hour_060.csv  \n",
            "  inflating: clicks/clicks/clicks_hour_061.csv  \n",
            "  inflating: clicks/clicks/clicks_hour_062.csv  \n",
            "  inflating: clicks/clicks/clicks_hour_063.csv  \n",
            "  inflating: clicks/clicks/clicks_hour_064.csv  \n",
            "  inflating: clicks/clicks/clicks_hour_065.csv  \n",
            "  inflating: clicks/clicks/clicks_hour_066.csv  \n",
            "  inflating: clicks/clicks/clicks_hour_067.csv  \n",
            "  inflating: clicks/clicks/clicks_hour_068.csv  \n",
            "  inflating: clicks/clicks/clicks_hour_069.csv  \n",
            "  inflating: clicks/clicks/clicks_hour_070.csv  \n",
            "  inflating: clicks/clicks/clicks_hour_071.csv  \n",
            "  inflating: clicks/clicks/clicks_hour_072.csv  \n",
            "  inflating: clicks/clicks/clicks_hour_073.csv  \n",
            "  inflating: clicks/clicks/clicks_hour_074.csv  \n",
            "  inflating: clicks/clicks/clicks_hour_075.csv  \n",
            "  inflating: clicks/clicks/clicks_hour_076.csv  \n",
            "  inflating: clicks/clicks/clicks_hour_077.csv  \n",
            "  inflating: clicks/clicks/clicks_hour_078.csv  \n",
            "  inflating: clicks/clicks/clicks_hour_079.csv  \n",
            "  inflating: clicks/clicks/clicks_hour_080.csv  \n",
            "  inflating: clicks/clicks/clicks_hour_081.csv  \n",
            "  inflating: clicks/clicks/clicks_hour_082.csv  \n",
            "  inflating: clicks/clicks/clicks_hour_083.csv  \n",
            "  inflating: clicks/clicks/clicks_hour_084.csv  \n",
            "  inflating: clicks/clicks/clicks_hour_085.csv  \n",
            "  inflating: clicks/clicks/clicks_hour_086.csv  \n",
            "  inflating: clicks/clicks/clicks_hour_087.csv  \n",
            "  inflating: clicks/clicks/clicks_hour_088.csv  \n",
            "  inflating: clicks/clicks/clicks_hour_089.csv  \n",
            "  inflating: clicks/clicks/clicks_hour_090.csv  \n",
            "  inflating: clicks/clicks/clicks_hour_091.csv  \n",
            "  inflating: clicks/clicks/clicks_hour_092.csv  \n",
            "  inflating: clicks/clicks/clicks_hour_093.csv  \n",
            "  inflating: clicks/clicks/clicks_hour_094.csv  \n",
            "  inflating: clicks/clicks/clicks_hour_095.csv  \n",
            "  inflating: clicks/clicks/clicks_hour_096.csv  \n",
            "  inflating: clicks/clicks/clicks_hour_097.csv  \n",
            "  inflating: clicks/clicks/clicks_hour_098.csv  \n",
            "  inflating: clicks/clicks/clicks_hour_099.csv  \n",
            "  inflating: clicks/clicks/clicks_hour_100.csv  \n",
            "  inflating: clicks/clicks/clicks_hour_101.csv  \n",
            "  inflating: clicks/clicks/clicks_hour_102.csv  \n",
            "  inflating: clicks/clicks/clicks_hour_103.csv  \n",
            "  inflating: clicks/clicks/clicks_hour_104.csv  \n",
            "  inflating: clicks/clicks/clicks_hour_105.csv  \n",
            "  inflating: clicks/clicks/clicks_hour_106.csv  \n",
            "  inflating: clicks/clicks/clicks_hour_107.csv  \n",
            "  inflating: clicks/clicks/clicks_hour_108.csv  \n",
            "  inflating: clicks/clicks/clicks_hour_109.csv  \n",
            "  inflating: clicks/clicks/clicks_hour_110.csv  \n",
            "  inflating: clicks/clicks/clicks_hour_111.csv  \n",
            "  inflating: clicks/clicks/clicks_hour_112.csv  \n",
            "  inflating: clicks/clicks/clicks_hour_113.csv  \n",
            "  inflating: clicks/clicks/clicks_hour_114.csv  \n",
            "  inflating: clicks/clicks/clicks_hour_115.csv  \n",
            "  inflating: clicks/clicks/clicks_hour_116.csv  \n",
            "  inflating: clicks/clicks/clicks_hour_117.csv  \n",
            "  inflating: clicks/clicks/clicks_hour_118.csv  \n",
            "  inflating: clicks/clicks/clicks_hour_119.csv  \n",
            "  inflating: clicks/clicks/clicks_hour_120.csv  \n",
            "  inflating: clicks/clicks/clicks_hour_121.csv  \n",
            "  inflating: clicks/clicks/clicks_hour_122.csv  \n",
            "  inflating: clicks/clicks/clicks_hour_123.csv  \n",
            "  inflating: clicks/clicks/clicks_hour_124.csv  \n",
            "  inflating: clicks/clicks/clicks_hour_125.csv  \n",
            "  inflating: clicks/clicks/clicks_hour_126.csv  \n",
            "  inflating: clicks/clicks/clicks_hour_127.csv  \n",
            "  inflating: clicks/clicks/clicks_hour_128.csv  \n",
            "  inflating: clicks/clicks/clicks_hour_129.csv  \n",
            "  inflating: clicks/clicks/clicks_hour_130.csv  \n",
            "  inflating: clicks/clicks/clicks_hour_131.csv  \n",
            "  inflating: clicks/clicks/clicks_hour_132.csv  \n",
            "  inflating: clicks/clicks/clicks_hour_133.csv  \n",
            "  inflating: clicks/clicks/clicks_hour_134.csv  \n",
            "  inflating: clicks/clicks/clicks_hour_135.csv  \n",
            "  inflating: clicks/clicks/clicks_hour_136.csv  \n",
            "  inflating: clicks/clicks/clicks_hour_137.csv  \n",
            "  inflating: clicks/clicks/clicks_hour_138.csv  \n",
            "  inflating: clicks/clicks/clicks_hour_139.csv  \n",
            "  inflating: clicks/clicks/clicks_hour_140.csv  \n",
            "  inflating: clicks/clicks/clicks_hour_141.csv  \n",
            "  inflating: clicks/clicks/clicks_hour_142.csv  \n",
            "  inflating: clicks/clicks/clicks_hour_143.csv  \n",
            "  inflating: clicks/clicks/clicks_hour_144.csv  \n",
            "  inflating: clicks/clicks/clicks_hour_145.csv  \n",
            "  inflating: clicks/clicks/clicks_hour_146.csv  \n",
            "  inflating: clicks/clicks/clicks_hour_147.csv  \n",
            "  inflating: clicks/clicks/clicks_hour_148.csv  \n",
            "  inflating: clicks/clicks/clicks_hour_149.csv  \n",
            "  inflating: clicks/clicks/clicks_hour_150.csv  \n",
            "  inflating: clicks/clicks/clicks_hour_151.csv  \n",
            "  inflating: clicks/clicks/clicks_hour_152.csv  \n",
            "  inflating: clicks/clicks/clicks_hour_153.csv  \n",
            "  inflating: clicks/clicks/clicks_hour_154.csv  \n",
            "  inflating: clicks/clicks/clicks_hour_155.csv  \n",
            "  inflating: clicks/clicks/clicks_hour_156.csv  \n",
            "  inflating: clicks/clicks/clicks_hour_157.csv  \n",
            "  inflating: clicks/clicks/clicks_hour_158.csv  \n",
            "  inflating: clicks/clicks/clicks_hour_159.csv  \n",
            "  inflating: clicks/clicks/clicks_hour_160.csv  \n",
            "  inflating: clicks/clicks/clicks_hour_161.csv  \n",
            "  inflating: clicks/clicks/clicks_hour_162.csv  \n",
            "  inflating: clicks/clicks/clicks_hour_163.csv  \n",
            "  inflating: clicks/clicks/clicks_hour_164.csv  \n",
            "  inflating: clicks/clicks/clicks_hour_165.csv  \n",
            "  inflating: clicks/clicks/clicks_hour_166.csv  \n",
            "  inflating: clicks/clicks/clicks_hour_167.csv  \n",
            "  inflating: clicks/clicks/clicks_hour_168.csv  \n",
            "  inflating: clicks/clicks/clicks_hour_169.csv  \n",
            "  inflating: clicks/clicks/clicks_hour_170.csv  \n",
            "  inflating: clicks/clicks/clicks_hour_171.csv  \n",
            "  inflating: clicks/clicks/clicks_hour_172.csv  \n",
            "  inflating: clicks/clicks/clicks_hour_173.csv  \n",
            "  inflating: clicks/clicks/clicks_hour_174.csv  \n",
            "  inflating: clicks/clicks/clicks_hour_175.csv  \n",
            "  inflating: clicks/clicks/clicks_hour_176.csv  \n",
            "  inflating: clicks/clicks/clicks_hour_177.csv  \n",
            "  inflating: clicks/clicks/clicks_hour_178.csv  \n",
            "  inflating: clicks/clicks/clicks_hour_179.csv  \n",
            "  inflating: clicks/clicks/clicks_hour_180.csv  \n",
            "  inflating: clicks/clicks/clicks_hour_181.csv  \n",
            "  inflating: clicks/clicks/clicks_hour_182.csv  \n",
            "  inflating: clicks/clicks/clicks_hour_183.csv  \n",
            "  inflating: clicks/clicks/clicks_hour_184.csv  \n",
            "  inflating: clicks/clicks/clicks_hour_185.csv  \n",
            "  inflating: clicks/clicks/clicks_hour_186.csv  \n",
            "  inflating: clicks/clicks/clicks_hour_187.csv  \n",
            "  inflating: clicks/clicks/clicks_hour_188.csv  \n",
            "  inflating: clicks/clicks/clicks_hour_189.csv  \n",
            "  inflating: clicks/clicks/clicks_hour_190.csv  \n",
            "  inflating: clicks/clicks/clicks_hour_191.csv  \n",
            "  inflating: clicks/clicks/clicks_hour_192.csv  \n",
            "  inflating: clicks/clicks/clicks_hour_193.csv  \n",
            "  inflating: clicks/clicks/clicks_hour_194.csv  \n",
            "  inflating: clicks/clicks/clicks_hour_195.csv  \n",
            "  inflating: clicks/clicks/clicks_hour_196.csv  \n",
            "  inflating: clicks/clicks/clicks_hour_197.csv  \n",
            "  inflating: clicks/clicks/clicks_hour_198.csv  \n",
            "  inflating: clicks/clicks/clicks_hour_199.csv  \n",
            "  inflating: clicks/clicks/clicks_hour_200.csv  \n",
            "  inflating: clicks/clicks/clicks_hour_201.csv  \n",
            "  inflating: clicks/clicks/clicks_hour_202.csv  \n",
            "  inflating: clicks/clicks/clicks_hour_203.csv  \n",
            "  inflating: clicks/clicks/clicks_hour_204.csv  \n",
            "  inflating: clicks/clicks/clicks_hour_205.csv  \n",
            "  inflating: clicks/clicks/clicks_hour_206.csv  \n",
            "  inflating: clicks/clicks/clicks_hour_207.csv  \n",
            "  inflating: clicks/clicks/clicks_hour_208.csv  \n",
            "  inflating: clicks/clicks/clicks_hour_209.csv  \n",
            "  inflating: clicks/clicks/clicks_hour_210.csv  \n",
            "  inflating: clicks/clicks/clicks_hour_211.csv  \n",
            "  inflating: clicks/clicks/clicks_hour_212.csv  \n",
            "  inflating: clicks/clicks/clicks_hour_213.csv  \n",
            "  inflating: clicks/clicks/clicks_hour_214.csv  \n",
            "  inflating: clicks/clicks/clicks_hour_215.csv  \n",
            "  inflating: clicks/clicks/clicks_hour_216.csv  \n",
            "  inflating: clicks/clicks/clicks_hour_217.csv  \n",
            "  inflating: clicks/clicks/clicks_hour_218.csv  \n",
            "  inflating: clicks/clicks/clicks_hour_219.csv  \n",
            "  inflating: clicks/clicks/clicks_hour_220.csv  \n",
            "  inflating: clicks/clicks/clicks_hour_221.csv  \n",
            "  inflating: clicks/clicks/clicks_hour_222.csv  \n",
            "  inflating: clicks/clicks/clicks_hour_223.csv  \n",
            "  inflating: clicks/clicks/clicks_hour_224.csv  \n",
            "  inflating: clicks/clicks/clicks_hour_225.csv  \n",
            "  inflating: clicks/clicks/clicks_hour_226.csv  \n",
            "  inflating: clicks/clicks/clicks_hour_227.csv  \n",
            "  inflating: clicks/clicks/clicks_hour_228.csv  \n",
            "  inflating: clicks/clicks/clicks_hour_229.csv  \n",
            "  inflating: clicks/clicks/clicks_hour_230.csv  \n",
            "  inflating: clicks/clicks/clicks_hour_231.csv  \n",
            "  inflating: clicks/clicks/clicks_hour_232.csv  \n",
            "  inflating: clicks/clicks/clicks_hour_233.csv  \n",
            "  inflating: clicks/clicks/clicks_hour_234.csv  \n",
            "  inflating: clicks/clicks/clicks_hour_235.csv  \n",
            "  inflating: clicks/clicks/clicks_hour_236.csv  \n",
            "  inflating: clicks/clicks/clicks_hour_237.csv  \n",
            "  inflating: clicks/clicks/clicks_hour_238.csv  \n",
            "  inflating: clicks/clicks/clicks_hour_239.csv  \n",
            "  inflating: clicks/clicks/clicks_hour_240.csv  \n",
            "  inflating: clicks/clicks/clicks_hour_241.csv  \n",
            "  inflating: clicks/clicks/clicks_hour_242.csv  \n",
            "  inflating: clicks/clicks/clicks_hour_243.csv  \n",
            "  inflating: clicks/clicks/clicks_hour_244.csv  \n",
            "  inflating: clicks/clicks/clicks_hour_245.csv  \n",
            "  inflating: clicks/clicks/clicks_hour_246.csv  \n",
            "  inflating: clicks/clicks/clicks_hour_247.csv  \n",
            "  inflating: clicks/clicks/clicks_hour_248.csv  \n",
            "  inflating: clicks/clicks/clicks_hour_249.csv  \n",
            "  inflating: clicks/clicks/clicks_hour_250.csv  \n",
            "  inflating: clicks/clicks/clicks_hour_251.csv  \n",
            "  inflating: clicks/clicks/clicks_hour_252.csv  \n",
            "  inflating: clicks/clicks/clicks_hour_253.csv  \n",
            "  inflating: clicks/clicks/clicks_hour_254.csv  \n",
            "  inflating: clicks/clicks/clicks_hour_255.csv  \n",
            "  inflating: clicks/clicks/clicks_hour_256.csv  \n",
            "  inflating: clicks/clicks/clicks_hour_257.csv  \n",
            "  inflating: clicks/clicks/clicks_hour_258.csv  \n",
            "  inflating: clicks/clicks/clicks_hour_259.csv  \n",
            "  inflating: clicks/clicks/clicks_hour_260.csv  \n",
            "  inflating: clicks/clicks/clicks_hour_261.csv  \n",
            "  inflating: clicks/clicks/clicks_hour_262.csv  \n",
            "  inflating: clicks/clicks/clicks_hour_263.csv  \n",
            "  inflating: clicks/clicks/clicks_hour_264.csv  \n",
            "  inflating: clicks/clicks/clicks_hour_265.csv  \n",
            "  inflating: clicks/clicks/clicks_hour_266.csv  \n",
            "  inflating: clicks/clicks/clicks_hour_267.csv  \n",
            "  inflating: clicks/clicks/clicks_hour_268.csv  \n",
            "  inflating: clicks/clicks/clicks_hour_269.csv  \n",
            "  inflating: clicks/clicks/clicks_hour_270.csv  \n",
            "  inflating: clicks/clicks/clicks_hour_271.csv  \n",
            "  inflating: clicks/clicks/clicks_hour_272.csv  \n",
            "  inflating: clicks/clicks/clicks_hour_273.csv  \n",
            "  inflating: clicks/clicks/clicks_hour_274.csv  \n",
            "  inflating: clicks/clicks/clicks_hour_275.csv  \n",
            "  inflating: clicks/clicks/clicks_hour_276.csv  \n",
            "  inflating: clicks/clicks/clicks_hour_277.csv  \n",
            "  inflating: clicks/clicks/clicks_hour_278.csv  \n",
            "  inflating: clicks/clicks/clicks_hour_279.csv  \n",
            "  inflating: clicks/clicks/clicks_hour_280.csv  \n",
            "  inflating: clicks/clicks/clicks_hour_281.csv  \n",
            "  inflating: clicks/clicks/clicks_hour_282.csv  \n",
            "  inflating: clicks/clicks/clicks_hour_283.csv  \n",
            "  inflating: clicks/clicks/clicks_hour_284.csv  \n",
            "  inflating: clicks/clicks/clicks_hour_285.csv  \n",
            "  inflating: clicks/clicks/clicks_hour_286.csv  \n",
            "  inflating: clicks/clicks/clicks_hour_287.csv  \n",
            "  inflating: clicks/clicks/clicks_hour_288.csv  \n",
            "  inflating: clicks/clicks/clicks_hour_289.csv  \n",
            "  inflating: clicks/clicks/clicks_hour_290.csv  \n",
            "  inflating: clicks/clicks/clicks_hour_291.csv  \n",
            "  inflating: clicks/clicks/clicks_hour_292.csv  \n",
            "  inflating: clicks/clicks/clicks_hour_293.csv  \n",
            "  inflating: clicks/clicks/clicks_hour_294.csv  \n",
            "  inflating: clicks/clicks/clicks_hour_295.csv  \n",
            "  inflating: clicks/clicks/clicks_hour_296.csv  \n",
            "  inflating: clicks/clicks/clicks_hour_297.csv  \n",
            "  inflating: clicks/clicks/clicks_hour_298.csv  \n",
            "  inflating: clicks/clicks/clicks_hour_299.csv  \n",
            "  inflating: clicks/clicks/clicks_hour_300.csv  \n",
            "  inflating: clicks/clicks/clicks_hour_301.csv  \n",
            "  inflating: clicks/clicks/clicks_hour_302.csv  \n",
            "  inflating: clicks/clicks/clicks_hour_303.csv  \n",
            "  inflating: clicks/clicks/clicks_hour_304.csv  \n",
            "  inflating: clicks/clicks/clicks_hour_305.csv  \n",
            "  inflating: clicks/clicks/clicks_hour_306.csv  \n",
            "  inflating: clicks/clicks/clicks_hour_307.csv  \n",
            "  inflating: clicks/clicks/clicks_hour_308.csv  \n",
            "  inflating: clicks/clicks/clicks_hour_309.csv  \n",
            "  inflating: clicks/clicks/clicks_hour_310.csv  \n",
            "  inflating: clicks/clicks/clicks_hour_311.csv  \n",
            "  inflating: clicks/clicks/clicks_hour_312.csv  \n",
            "  inflating: clicks/clicks/clicks_hour_313.csv  \n",
            "  inflating: clicks/clicks/clicks_hour_314.csv  \n",
            "  inflating: clicks/clicks/clicks_hour_315.csv  \n",
            "  inflating: clicks/clicks/clicks_hour_316.csv  \n",
            "  inflating: clicks/clicks/clicks_hour_317.csv  \n",
            "  inflating: clicks/clicks/clicks_hour_318.csv  \n",
            "  inflating: clicks/clicks/clicks_hour_319.csv  \n",
            "  inflating: clicks/clicks/clicks_hour_320.csv  \n",
            "  inflating: clicks/clicks/clicks_hour_321.csv  \n",
            "  inflating: clicks/clicks/clicks_hour_322.csv  \n",
            "  inflating: clicks/clicks/clicks_hour_323.csv  \n",
            "  inflating: clicks/clicks/clicks_hour_324.csv  \n",
            "  inflating: clicks/clicks/clicks_hour_325.csv  \n",
            "  inflating: clicks/clicks/clicks_hour_326.csv  \n",
            "  inflating: clicks/clicks/clicks_hour_327.csv  \n",
            "  inflating: clicks/clicks/clicks_hour_328.csv  \n",
            "  inflating: clicks/clicks/clicks_hour_329.csv  \n",
            "  inflating: clicks/clicks/clicks_hour_330.csv  \n",
            "  inflating: clicks/clicks/clicks_hour_331.csv  \n",
            "  inflating: clicks/clicks/clicks_hour_332.csv  \n",
            "  inflating: clicks/clicks/clicks_hour_333.csv  \n",
            "  inflating: clicks/clicks/clicks_hour_334.csv  \n",
            "  inflating: clicks/clicks/clicks_hour_335.csv  \n",
            "  inflating: clicks/clicks/clicks_hour_336.csv  \n",
            "  inflating: clicks/clicks/clicks_hour_337.csv  \n",
            "  inflating: clicks/clicks/clicks_hour_338.csv  \n",
            "  inflating: clicks/clicks/clicks_hour_339.csv  \n",
            "  inflating: clicks/clicks/clicks_hour_340.csv  \n",
            "  inflating: clicks/clicks/clicks_hour_341.csv  \n",
            "  inflating: clicks/clicks/clicks_hour_342.csv  \n",
            "  inflating: clicks/clicks/clicks_hour_343.csv  \n",
            "  inflating: clicks/clicks/clicks_hour_344.csv  \n",
            "  inflating: clicks/clicks/clicks_hour_345.csv  \n",
            "  inflating: clicks/clicks/clicks_hour_346.csv  \n",
            "  inflating: clicks/clicks/clicks_hour_347.csv  \n",
            "  inflating: clicks/clicks/clicks_hour_348.csv  \n",
            "  inflating: clicks/clicks/clicks_hour_349.csv  \n",
            "  inflating: clicks/clicks/clicks_hour_350.csv  \n",
            "  inflating: clicks/clicks/clicks_hour_351.csv  \n",
            "  inflating: clicks/clicks/clicks_hour_352.csv  \n",
            "  inflating: clicks/clicks/clicks_hour_353.csv  \n",
            "  inflating: clicks/clicks/clicks_hour_354.csv  \n",
            "  inflating: clicks/clicks/clicks_hour_355.csv  \n",
            "  inflating: clicks/clicks/clicks_hour_356.csv  \n",
            "  inflating: clicks/clicks/clicks_hour_357.csv  \n",
            "  inflating: clicks/clicks/clicks_hour_358.csv  \n",
            "  inflating: clicks/clicks/clicks_hour_359.csv  \n",
            "  inflating: clicks/clicks/clicks_hour_360.csv  \n",
            "  inflating: clicks/clicks/clicks_hour_361.csv  \n",
            "  inflating: clicks/clicks/clicks_hour_362.csv  \n",
            "  inflating: clicks/clicks/clicks_hour_363.csv  \n",
            "  inflating: clicks/clicks/clicks_hour_364.csv  \n",
            "  inflating: clicks/clicks/clicks_hour_365.csv  \n",
            "  inflating: clicks/clicks/clicks_hour_366.csv  \n",
            "  inflating: clicks/clicks/clicks_hour_367.csv  \n",
            "  inflating: clicks/clicks/clicks_hour_368.csv  \n",
            "  inflating: clicks/clicks/clicks_hour_369.csv  \n",
            "  inflating: clicks/clicks/clicks_hour_370.csv  \n",
            "  inflating: clicks/clicks/clicks_hour_371.csv  \n",
            "  inflating: clicks/clicks/clicks_hour_372.csv  \n",
            "  inflating: clicks/clicks/clicks_hour_373.csv  \n",
            "  inflating: clicks/clicks/clicks_hour_374.csv  \n",
            "  inflating: clicks/clicks/clicks_hour_375.csv  \n",
            "  inflating: clicks/clicks/clicks_hour_376.csv  \n",
            "  inflating: clicks/clicks/clicks_hour_377.csv  \n",
            "  inflating: clicks/clicks/clicks_hour_378.csv  \n",
            "  inflating: clicks/clicks/clicks_hour_379.csv  \n",
            "  inflating: clicks/clicks/clicks_hour_380.csv  \n",
            "  inflating: clicks/clicks/clicks_hour_381.csv  \n",
            "  inflating: clicks/clicks/clicks_hour_382.csv  \n",
            "  inflating: clicks/clicks/clicks_hour_383.csv  \n",
            "  inflating: clicks/clicks/clicks_hour_384.csv  \n",
            "  inflating: clicks_sample.csv       \n",
            "Archive:  ./drive/MyDrive/dataset/arc2.zip\n",
            "  inflating: shared_articles.csv     \n",
            "  inflating: users_interactions.csv  \n"
          ]
        }
      ]
    },
    {
      "cell_type": "code",
      "source": [
        "!ls"
      ],
      "metadata": {
        "colab": {
          "base_uri": "https://localhost:8080/"
        },
        "id": "qhSeluOf9XR7",
        "outputId": "3da6e2a4-e5f0-4d60-f693-15b5884cbf60"
      },
      "execution_count": 13,
      "outputs": [
        {
          "output_type": "stream",
          "name": "stdout",
          "text": [
            "articles_embeddings.pickle  clicks_sample.csv  shared_articles.csv\n",
            "articles_metadata.csv\t    drive\t       users_interactions.csv\n",
            "clicks\t\t\t    sample_data\n"
          ]
        }
      ]
    },
    {
      "cell_type": "code",
      "source": [
        "articles_df = pd.read_csv(\"./shared_articles.csv\")\n",
        "articles_df = articles_df[articles_df[\"eventType\"] == \"CONTENT SHARED\"]\n",
        "articles_df.head(2)"
      ],
      "metadata": {
        "colab": {
          "base_uri": "https://localhost:8080/",
          "height": 436
        },
        "id": "NmRTVpuI9UmD",
        "outputId": "8b8eff45-0b6c-477d-9931-8fa51be3f836"
      },
      "execution_count": 14,
      "outputs": [
        {
          "output_type": "execute_result",
          "data": {
            "text/plain": [
              "    timestamp       eventType            contentId       authorPersonId  \\\n",
              "1  1459193988  CONTENT SHARED -4110354420726924665  4340306774493623681   \n",
              "2  1459194146  CONTENT SHARED -7292285110016212249  4340306774493623681   \n",
              "\n",
              "       authorSessionId authorUserAgent authorRegion authorCountry contentType  \\\n",
              "1  8940341205206233829             NaN          NaN           NaN        HTML   \n",
              "2  8940341205206233829             NaN          NaN           NaN        HTML   \n",
              "\n",
              "                                                 url  \\\n",
              "1  http://www.nytimes.com/2016/03/28/business/dea...   \n",
              "2  http://cointelegraph.com/news/bitcoin-future-w...   \n",
              "\n",
              "                                               title  \\\n",
              "1  Ethereum, a Virtual Currency, Enables Transact...   \n",
              "2  Bitcoin Future: When GBPcoin of Branson Wins O...   \n",
              "\n",
              "                                                text lang  \n",
              "1  All of this work is still very early. The firs...   en  \n",
              "2  The alarm clock wakes me at 8:00 with stream o...   en  "
            ],
            "text/html": [
              "\n",
              "  <div id=\"df-a4a6ae4a-1f31-45e3-bfda-e238da2aa55a\">\n",
              "    <div class=\"colab-df-container\">\n",
              "      <div>\n",
              "<style scoped>\n",
              "    .dataframe tbody tr th:only-of-type {\n",
              "        vertical-align: middle;\n",
              "    }\n",
              "\n",
              "    .dataframe tbody tr th {\n",
              "        vertical-align: top;\n",
              "    }\n",
              "\n",
              "    .dataframe thead th {\n",
              "        text-align: right;\n",
              "    }\n",
              "</style>\n",
              "<table border=\"1\" class=\"dataframe\">\n",
              "  <thead>\n",
              "    <tr style=\"text-align: right;\">\n",
              "      <th></th>\n",
              "      <th>timestamp</th>\n",
              "      <th>eventType</th>\n",
              "      <th>contentId</th>\n",
              "      <th>authorPersonId</th>\n",
              "      <th>authorSessionId</th>\n",
              "      <th>authorUserAgent</th>\n",
              "      <th>authorRegion</th>\n",
              "      <th>authorCountry</th>\n",
              "      <th>contentType</th>\n",
              "      <th>url</th>\n",
              "      <th>title</th>\n",
              "      <th>text</th>\n",
              "      <th>lang</th>\n",
              "    </tr>\n",
              "  </thead>\n",
              "  <tbody>\n",
              "    <tr>\n",
              "      <th>1</th>\n",
              "      <td>1459193988</td>\n",
              "      <td>CONTENT SHARED</td>\n",
              "      <td>-4110354420726924665</td>\n",
              "      <td>4340306774493623681</td>\n",
              "      <td>8940341205206233829</td>\n",
              "      <td>NaN</td>\n",
              "      <td>NaN</td>\n",
              "      <td>NaN</td>\n",
              "      <td>HTML</td>\n",
              "      <td>http://www.nytimes.com/2016/03/28/business/dea...</td>\n",
              "      <td>Ethereum, a Virtual Currency, Enables Transact...</td>\n",
              "      <td>All of this work is still very early. The firs...</td>\n",
              "      <td>en</td>\n",
              "    </tr>\n",
              "    <tr>\n",
              "      <th>2</th>\n",
              "      <td>1459194146</td>\n",
              "      <td>CONTENT SHARED</td>\n",
              "      <td>-7292285110016212249</td>\n",
              "      <td>4340306774493623681</td>\n",
              "      <td>8940341205206233829</td>\n",
              "      <td>NaN</td>\n",
              "      <td>NaN</td>\n",
              "      <td>NaN</td>\n",
              "      <td>HTML</td>\n",
              "      <td>http://cointelegraph.com/news/bitcoin-future-w...</td>\n",
              "      <td>Bitcoin Future: When GBPcoin of Branson Wins O...</td>\n",
              "      <td>The alarm clock wakes me at 8:00 with stream o...</td>\n",
              "      <td>en</td>\n",
              "    </tr>\n",
              "  </tbody>\n",
              "</table>\n",
              "</div>\n",
              "      <button class=\"colab-df-convert\" onclick=\"convertToInteractive('df-a4a6ae4a-1f31-45e3-bfda-e238da2aa55a')\"\n",
              "              title=\"Convert this dataframe to an interactive table.\"\n",
              "              style=\"display:none;\">\n",
              "        \n",
              "  <svg xmlns=\"http://www.w3.org/2000/svg\" height=\"24px\"viewBox=\"0 0 24 24\"\n",
              "       width=\"24px\">\n",
              "    <path d=\"M0 0h24v24H0V0z\" fill=\"none\"/>\n",
              "    <path d=\"M18.56 5.44l.94 2.06.94-2.06 2.06-.94-2.06-.94-.94-2.06-.94 2.06-2.06.94zm-11 1L8.5 8.5l.94-2.06 2.06-.94-2.06-.94L8.5 2.5l-.94 2.06-2.06.94zm10 10l.94 2.06.94-2.06 2.06-.94-2.06-.94-.94-2.06-.94 2.06-2.06.94z\"/><path d=\"M17.41 7.96l-1.37-1.37c-.4-.4-.92-.59-1.43-.59-.52 0-1.04.2-1.43.59L10.3 9.45l-7.72 7.72c-.78.78-.78 2.05 0 2.83L4 21.41c.39.39.9.59 1.41.59.51 0 1.02-.2 1.41-.59l7.78-7.78 2.81-2.81c.8-.78.8-2.07 0-2.86zM5.41 20L4 18.59l7.72-7.72 1.47 1.35L5.41 20z\"/>\n",
              "  </svg>\n",
              "      </button>\n",
              "      \n",
              "  <style>\n",
              "    .colab-df-container {\n",
              "      display:flex;\n",
              "      flex-wrap:wrap;\n",
              "      gap: 12px;\n",
              "    }\n",
              "\n",
              "    .colab-df-convert {\n",
              "      background-color: #E8F0FE;\n",
              "      border: none;\n",
              "      border-radius: 50%;\n",
              "      cursor: pointer;\n",
              "      display: none;\n",
              "      fill: #1967D2;\n",
              "      height: 32px;\n",
              "      padding: 0 0 0 0;\n",
              "      width: 32px;\n",
              "    }\n",
              "\n",
              "    .colab-df-convert:hover {\n",
              "      background-color: #E2EBFA;\n",
              "      box-shadow: 0px 1px 2px rgba(60, 64, 67, 0.3), 0px 1px 3px 1px rgba(60, 64, 67, 0.15);\n",
              "      fill: #174EA6;\n",
              "    }\n",
              "\n",
              "    [theme=dark] .colab-df-convert {\n",
              "      background-color: #3B4455;\n",
              "      fill: #D2E3FC;\n",
              "    }\n",
              "\n",
              "    [theme=dark] .colab-df-convert:hover {\n",
              "      background-color: #434B5C;\n",
              "      box-shadow: 0px 1px 3px 1px rgba(0, 0, 0, 0.15);\n",
              "      filter: drop-shadow(0px 1px 2px rgba(0, 0, 0, 0.3));\n",
              "      fill: #FFFFFF;\n",
              "    }\n",
              "  </style>\n",
              "\n",
              "      <script>\n",
              "        const buttonEl =\n",
              "          document.querySelector('#df-a4a6ae4a-1f31-45e3-bfda-e238da2aa55a button.colab-df-convert');\n",
              "        buttonEl.style.display =\n",
              "          google.colab.kernel.accessAllowed ? 'block' : 'none';\n",
              "\n",
              "        async function convertToInteractive(key) {\n",
              "          const element = document.querySelector('#df-a4a6ae4a-1f31-45e3-bfda-e238da2aa55a');\n",
              "          const dataTable =\n",
              "            await google.colab.kernel.invokeFunction('convertToInteractive',\n",
              "                                                     [key], {});\n",
              "          if (!dataTable) return;\n",
              "\n",
              "          const docLinkHtml = 'Like what you see? Visit the ' +\n",
              "            '<a target=\"_blank\" href=https://colab.research.google.com/notebooks/data_table.ipynb>data table notebook</a>'\n",
              "            + ' to learn more about interactive tables.';\n",
              "          element.innerHTML = '';\n",
              "          dataTable['output_type'] = 'display_data';\n",
              "          await google.colab.output.renderOutput(dataTable, element);\n",
              "          const docLink = document.createElement('div');\n",
              "          docLink.innerHTML = docLinkHtml;\n",
              "          element.appendChild(docLink);\n",
              "        }\n",
              "      </script>\n",
              "    </div>\n",
              "  </div>\n",
              "  "
            ]
          },
          "metadata": {},
          "execution_count": 14
        }
      ]
    },
    {
      "cell_type": "code",
      "source": [
        "interactions_df = pd.read_csv(\"./users_interactions.csv\")\n",
        "interactions_df.head(2)"
      ],
      "metadata": {
        "colab": {
          "base_uri": "https://localhost:8080/",
          "height": 112
        },
        "id": "yI-xb8J69hlO",
        "outputId": "b96d9765-e9e1-4590-b582-faba32836c1f"
      },
      "execution_count": 15,
      "outputs": [
        {
          "output_type": "execute_result",
          "data": {
            "text/plain": [
              "    timestamp eventType            contentId             personId  \\\n",
              "0  1465413032      VIEW -3499919498720038879 -8845298781299428018   \n",
              "1  1465412560      VIEW  8890720798209849691 -1032019229384696495   \n",
              "\n",
              "             sessionId                                          userAgent  \\\n",
              "0  1264196770339959068                                                NaN   \n",
              "1  3621737643587579081  Mozilla/5.0 (Macintosh; Intel Mac OS X 10_11_2...   \n",
              "\n",
              "  userRegion userCountry  \n",
              "0        NaN         NaN  \n",
              "1         NY          US  "
            ],
            "text/html": [
              "\n",
              "  <div id=\"df-4dad960f-0bc9-40e4-bb2e-973e5aa5b371\">\n",
              "    <div class=\"colab-df-container\">\n",
              "      <div>\n",
              "<style scoped>\n",
              "    .dataframe tbody tr th:only-of-type {\n",
              "        vertical-align: middle;\n",
              "    }\n",
              "\n",
              "    .dataframe tbody tr th {\n",
              "        vertical-align: top;\n",
              "    }\n",
              "\n",
              "    .dataframe thead th {\n",
              "        text-align: right;\n",
              "    }\n",
              "</style>\n",
              "<table border=\"1\" class=\"dataframe\">\n",
              "  <thead>\n",
              "    <tr style=\"text-align: right;\">\n",
              "      <th></th>\n",
              "      <th>timestamp</th>\n",
              "      <th>eventType</th>\n",
              "      <th>contentId</th>\n",
              "      <th>personId</th>\n",
              "      <th>sessionId</th>\n",
              "      <th>userAgent</th>\n",
              "      <th>userRegion</th>\n",
              "      <th>userCountry</th>\n",
              "    </tr>\n",
              "  </thead>\n",
              "  <tbody>\n",
              "    <tr>\n",
              "      <th>0</th>\n",
              "      <td>1465413032</td>\n",
              "      <td>VIEW</td>\n",
              "      <td>-3499919498720038879</td>\n",
              "      <td>-8845298781299428018</td>\n",
              "      <td>1264196770339959068</td>\n",
              "      <td>NaN</td>\n",
              "      <td>NaN</td>\n",
              "      <td>NaN</td>\n",
              "    </tr>\n",
              "    <tr>\n",
              "      <th>1</th>\n",
              "      <td>1465412560</td>\n",
              "      <td>VIEW</td>\n",
              "      <td>8890720798209849691</td>\n",
              "      <td>-1032019229384696495</td>\n",
              "      <td>3621737643587579081</td>\n",
              "      <td>Mozilla/5.0 (Macintosh; Intel Mac OS X 10_11_2...</td>\n",
              "      <td>NY</td>\n",
              "      <td>US</td>\n",
              "    </tr>\n",
              "  </tbody>\n",
              "</table>\n",
              "</div>\n",
              "      <button class=\"colab-df-convert\" onclick=\"convertToInteractive('df-4dad960f-0bc9-40e4-bb2e-973e5aa5b371')\"\n",
              "              title=\"Convert this dataframe to an interactive table.\"\n",
              "              style=\"display:none;\">\n",
              "        \n",
              "  <svg xmlns=\"http://www.w3.org/2000/svg\" height=\"24px\"viewBox=\"0 0 24 24\"\n",
              "       width=\"24px\">\n",
              "    <path d=\"M0 0h24v24H0V0z\" fill=\"none\"/>\n",
              "    <path d=\"M18.56 5.44l.94 2.06.94-2.06 2.06-.94-2.06-.94-.94-2.06-.94 2.06-2.06.94zm-11 1L8.5 8.5l.94-2.06 2.06-.94-2.06-.94L8.5 2.5l-.94 2.06-2.06.94zm10 10l.94 2.06.94-2.06 2.06-.94-2.06-.94-.94-2.06-.94 2.06-2.06.94z\"/><path d=\"M17.41 7.96l-1.37-1.37c-.4-.4-.92-.59-1.43-.59-.52 0-1.04.2-1.43.59L10.3 9.45l-7.72 7.72c-.78.78-.78 2.05 0 2.83L4 21.41c.39.39.9.59 1.41.59.51 0 1.02-.2 1.41-.59l7.78-7.78 2.81-2.81c.8-.78.8-2.07 0-2.86zM5.41 20L4 18.59l7.72-7.72 1.47 1.35L5.41 20z\"/>\n",
              "  </svg>\n",
              "      </button>\n",
              "      \n",
              "  <style>\n",
              "    .colab-df-container {\n",
              "      display:flex;\n",
              "      flex-wrap:wrap;\n",
              "      gap: 12px;\n",
              "    }\n",
              "\n",
              "    .colab-df-convert {\n",
              "      background-color: #E8F0FE;\n",
              "      border: none;\n",
              "      border-radius: 50%;\n",
              "      cursor: pointer;\n",
              "      display: none;\n",
              "      fill: #1967D2;\n",
              "      height: 32px;\n",
              "      padding: 0 0 0 0;\n",
              "      width: 32px;\n",
              "    }\n",
              "\n",
              "    .colab-df-convert:hover {\n",
              "      background-color: #E2EBFA;\n",
              "      box-shadow: 0px 1px 2px rgba(60, 64, 67, 0.3), 0px 1px 3px 1px rgba(60, 64, 67, 0.15);\n",
              "      fill: #174EA6;\n",
              "    }\n",
              "\n",
              "    [theme=dark] .colab-df-convert {\n",
              "      background-color: #3B4455;\n",
              "      fill: #D2E3FC;\n",
              "    }\n",
              "\n",
              "    [theme=dark] .colab-df-convert:hover {\n",
              "      background-color: #434B5C;\n",
              "      box-shadow: 0px 1px 3px 1px rgba(0, 0, 0, 0.15);\n",
              "      filter: drop-shadow(0px 1px 2px rgba(0, 0, 0, 0.3));\n",
              "      fill: #FFFFFF;\n",
              "    }\n",
              "  </style>\n",
              "\n",
              "      <script>\n",
              "        const buttonEl =\n",
              "          document.querySelector('#df-4dad960f-0bc9-40e4-bb2e-973e5aa5b371 button.colab-df-convert');\n",
              "        buttonEl.style.display =\n",
              "          google.colab.kernel.accessAllowed ? 'block' : 'none';\n",
              "\n",
              "        async function convertToInteractive(key) {\n",
              "          const element = document.querySelector('#df-4dad960f-0bc9-40e4-bb2e-973e5aa5b371');\n",
              "          const dataTable =\n",
              "            await google.colab.kernel.invokeFunction('convertToInteractive',\n",
              "                                                     [key], {});\n",
              "          if (!dataTable) return;\n",
              "\n",
              "          const docLinkHtml = 'Like what you see? Visit the ' +\n",
              "            '<a target=\"_blank\" href=https://colab.research.google.com/notebooks/data_table.ipynb>data table notebook</a>'\n",
              "            + ' to learn more about interactive tables.';\n",
              "          element.innerHTML = '';\n",
              "          dataTable['output_type'] = 'display_data';\n",
              "          await google.colab.output.renderOutput(dataTable, element);\n",
              "          const docLink = document.createElement('div');\n",
              "          docLink.innerHTML = docLinkHtml;\n",
              "          element.appendChild(docLink);\n",
              "        }\n",
              "      </script>\n",
              "    </div>\n",
              "  </div>\n",
              "  "
            ]
          },
          "metadata": {},
          "execution_count": 15
        }
      ]
    },
    {
      "cell_type": "code",
      "source": [
        "interactions_df.personId = interactions_df.personId.astype(str)\n",
        "interactions_df.contentId = interactions_df.contentId.astype(str)\n",
        "articles_df.contentId = articles_df.contentId.astype(str)"
      ],
      "metadata": {
        "id": "5nQScdSTTzNG",
        "execution": {
          "iopub.status.busy": "2022-06-09T09:51:23.229915Z",
          "iopub.execute_input": "2022-06-09T09:51:23.230636Z",
          "iopub.status.idle": "2022-06-09T09:51:23.487865Z",
          "shell.execute_reply.started": "2022-06-09T09:51:23.230590Z",
          "shell.execute_reply": "2022-06-09T09:51:23.487080Z"
        },
        "trusted": true
      },
      "execution_count": 16,
      "outputs": []
    },
    {
      "cell_type": "code",
      "source": [
        "# зададим словарь определяющий силу взаимодействия\n",
        "event_type_strength = {\n",
        "   \"VIEW\": 1.0,\n",
        "   \"LIKE\": 2.0, \n",
        "   \"BOOKMARK\": 2.5, \n",
        "   \"FOLLOW\": 3.0,\n",
        "   \"COMMENT CREATED\": 4.0,  \n",
        "}\n",
        "\n",
        "interactions_df[\"eventStrength\"] = interactions_df.eventType.apply(lambda x: event_type_strength[x])"
      ],
      "metadata": {
        "id": "eu6R9rDQT2P4",
        "execution": {
          "iopub.status.busy": "2022-06-09T09:51:23.489546Z",
          "iopub.execute_input": "2022-06-09T09:51:23.490267Z",
          "iopub.status.idle": "2022-06-09T09:51:23.524703Z",
          "shell.execute_reply.started": "2022-06-09T09:51:23.490221Z",
          "shell.execute_reply": "2022-06-09T09:51:23.523768Z"
        },
        "trusted": true
      },
      "execution_count": 17,
      "outputs": []
    },
    {
      "cell_type": "markdown",
      "source": [
        "Оставляем только тех пользователей, которые произамодействовали более чем с пятью статьями."
      ],
      "metadata": {
        "id": "ATO5PRRwUkQ0"
      }
    },
    {
      "cell_type": "code",
      "source": [
        "users_interactions_count_df = (\n",
        "    interactions_df\n",
        "    .groupby([\"personId\", \"contentId\"])\n",
        "    .first()\n",
        "    .reset_index()\n",
        "    .groupby(\"personId\").size())\n",
        "print(\"# users:\", len(users_interactions_count_df))\n",
        "\n",
        "users_with_enough_interactions_df = \\\n",
        "    users_interactions_count_df[users_interactions_count_df >= 5].reset_index()[[\"personId\"]]\n",
        "print(\"# users with at least 5 interactions:\",len(users_with_enough_interactions_df))"
      ],
      "metadata": {
        "id": "d-0HoboYUBm5",
        "outputId": "0a9ccbe3-2a17-483e-cd14-22f775f04c34",
        "execution": {
          "iopub.status.busy": "2022-06-09T09:51:23.526079Z",
          "iopub.execute_input": "2022-06-09T09:51:23.526704Z",
          "iopub.status.idle": "2022-06-09T09:51:23.686352Z",
          "shell.execute_reply.started": "2022-06-09T09:51:23.526657Z",
          "shell.execute_reply": "2022-06-09T09:51:23.683507Z"
        },
        "trusted": true,
        "colab": {
          "base_uri": "https://localhost:8080/"
        }
      },
      "execution_count": 18,
      "outputs": [
        {
          "output_type": "stream",
          "name": "stdout",
          "text": [
            "# users: 1895\n",
            "# users with at least 5 interactions: 1140\n"
          ]
        }
      ]
    },
    {
      "cell_type": "markdown",
      "source": [
        "Оставляем только те взаимодействия, которые относятся к отфильтрованным пользователям."
      ],
      "metadata": {
        "id": "gQagI3DHUuX5"
      }
    },
    {
      "cell_type": "code",
      "source": [
        "interactions_from_selected_users_df = interactions_df.loc[np.in1d(interactions_df.personId,\n",
        "            users_with_enough_interactions_df)]"
      ],
      "metadata": {
        "id": "34rrdGdpUFgk",
        "execution": {
          "iopub.status.busy": "2022-06-09T09:51:23.687985Z",
          "iopub.execute_input": "2022-06-09T09:51:23.688545Z",
          "iopub.status.idle": "2022-06-09T09:51:27.860454Z",
          "shell.execute_reply.started": "2022-06-09T09:51:23.688498Z",
          "shell.execute_reply": "2022-06-09T09:51:27.859011Z"
        },
        "trusted": true
      },
      "execution_count": 19,
      "outputs": []
    },
    {
      "cell_type": "code",
      "source": [
        "print(f\"# interactions before: {interactions_df.shape}\")\n",
        "print(f\"# interactions after: {interactions_from_selected_users_df.shape}\")"
      ],
      "metadata": {
        "id": "Hd3VS_BgU9HN",
        "outputId": "e9fbd958-94b3-4f90-c5ca-5dfea56bcfde",
        "execution": {
          "iopub.status.busy": "2022-06-09T09:51:27.861662Z",
          "iopub.execute_input": "2022-06-09T09:51:27.862033Z",
          "iopub.status.idle": "2022-06-09T09:51:27.867445Z",
          "shell.execute_reply.started": "2022-06-09T09:51:27.862002Z",
          "shell.execute_reply": "2022-06-09T09:51:27.866367Z"
        },
        "trusted": true,
        "colab": {
          "base_uri": "https://localhost:8080/"
        }
      },
      "execution_count": 20,
      "outputs": [
        {
          "output_type": "stream",
          "name": "stdout",
          "text": [
            "# interactions before: (72312, 9)\n",
            "# interactions after: (69868, 9)\n"
          ]
        }
      ]
    },
    {
      "cell_type": "markdown",
      "source": [
        "Объединяем все взаимодействия пользователя по каждой статье и сглажиываем полученный результат, взяв от него логарифм."
      ],
      "metadata": {
        "id": "FYpRiFkQVR6B"
      }
    },
    {
      "cell_type": "code",
      "source": [
        "def smooth_user_preference(x):\n",
        "    return math.log(1+x, 2)\n",
        "    \n",
        "interactions_full_df = (\n",
        "    interactions_from_selected_users_df\n",
        "    .groupby([\"personId\", \"contentId\"]).eventStrength.sum()\n",
        "    .apply(smooth_user_preference)\n",
        "    .reset_index().set_index([\"personId\", \"contentId\"])\n",
        ")\n",
        "interactions_full_df[\"last_timestamp\"] = (\n",
        "    interactions_from_selected_users_df\n",
        "    .groupby([\"personId\", \"contentId\"])[\"timestamp\"].last()\n",
        ")\n",
        "        \n",
        "interactions_full_df = interactions_full_df.reset_index()\n",
        "interactions_full_df.head(5)"
      ],
      "metadata": {
        "id": "mtPtAehKVEUu",
        "outputId": "887ab537-84c7-459a-c2f6-057a25050b33",
        "execution": {
          "iopub.status.busy": "2022-06-09T09:51:27.870484Z",
          "iopub.execute_input": "2022-06-09T09:51:27.870838Z",
          "iopub.status.idle": "2022-06-09T09:51:28.027115Z",
          "shell.execute_reply.started": "2022-06-09T09:51:27.870806Z",
          "shell.execute_reply": "2022-06-09T09:51:28.026392Z"
        },
        "trusted": true,
        "colab": {
          "base_uri": "https://localhost:8080/",
          "height": 206
        }
      },
      "execution_count": 21,
      "outputs": [
        {
          "output_type": "execute_result",
          "data": {
            "text/plain": [
              "               personId             contentId  eventStrength  last_timestamp\n",
              "0  -1007001694607905623  -5065077552540450930       1.000000      1470395911\n",
              "1  -1007001694607905623  -6623581327558800021       1.000000      1487240080\n",
              "2  -1007001694607905623   -793729620925729327       1.000000      1472834892\n",
              "3  -1007001694607905623   1469580151036142903       1.000000      1487240062\n",
              "4  -1007001694607905623   7270966256391553686       1.584963      1485994324"
            ],
            "text/html": [
              "\n",
              "  <div id=\"df-4df53f1c-b528-48c1-8d0b-49c7d8bf7ecb\">\n",
              "    <div class=\"colab-df-container\">\n",
              "      <div>\n",
              "<style scoped>\n",
              "    .dataframe tbody tr th:only-of-type {\n",
              "        vertical-align: middle;\n",
              "    }\n",
              "\n",
              "    .dataframe tbody tr th {\n",
              "        vertical-align: top;\n",
              "    }\n",
              "\n",
              "    .dataframe thead th {\n",
              "        text-align: right;\n",
              "    }\n",
              "</style>\n",
              "<table border=\"1\" class=\"dataframe\">\n",
              "  <thead>\n",
              "    <tr style=\"text-align: right;\">\n",
              "      <th></th>\n",
              "      <th>personId</th>\n",
              "      <th>contentId</th>\n",
              "      <th>eventStrength</th>\n",
              "      <th>last_timestamp</th>\n",
              "    </tr>\n",
              "  </thead>\n",
              "  <tbody>\n",
              "    <tr>\n",
              "      <th>0</th>\n",
              "      <td>-1007001694607905623</td>\n",
              "      <td>-5065077552540450930</td>\n",
              "      <td>1.000000</td>\n",
              "      <td>1470395911</td>\n",
              "    </tr>\n",
              "    <tr>\n",
              "      <th>1</th>\n",
              "      <td>-1007001694607905623</td>\n",
              "      <td>-6623581327558800021</td>\n",
              "      <td>1.000000</td>\n",
              "      <td>1487240080</td>\n",
              "    </tr>\n",
              "    <tr>\n",
              "      <th>2</th>\n",
              "      <td>-1007001694607905623</td>\n",
              "      <td>-793729620925729327</td>\n",
              "      <td>1.000000</td>\n",
              "      <td>1472834892</td>\n",
              "    </tr>\n",
              "    <tr>\n",
              "      <th>3</th>\n",
              "      <td>-1007001694607905623</td>\n",
              "      <td>1469580151036142903</td>\n",
              "      <td>1.000000</td>\n",
              "      <td>1487240062</td>\n",
              "    </tr>\n",
              "    <tr>\n",
              "      <th>4</th>\n",
              "      <td>-1007001694607905623</td>\n",
              "      <td>7270966256391553686</td>\n",
              "      <td>1.584963</td>\n",
              "      <td>1485994324</td>\n",
              "    </tr>\n",
              "  </tbody>\n",
              "</table>\n",
              "</div>\n",
              "      <button class=\"colab-df-convert\" onclick=\"convertToInteractive('df-4df53f1c-b528-48c1-8d0b-49c7d8bf7ecb')\"\n",
              "              title=\"Convert this dataframe to an interactive table.\"\n",
              "              style=\"display:none;\">\n",
              "        \n",
              "  <svg xmlns=\"http://www.w3.org/2000/svg\" height=\"24px\"viewBox=\"0 0 24 24\"\n",
              "       width=\"24px\">\n",
              "    <path d=\"M0 0h24v24H0V0z\" fill=\"none\"/>\n",
              "    <path d=\"M18.56 5.44l.94 2.06.94-2.06 2.06-.94-2.06-.94-.94-2.06-.94 2.06-2.06.94zm-11 1L8.5 8.5l.94-2.06 2.06-.94-2.06-.94L8.5 2.5l-.94 2.06-2.06.94zm10 10l.94 2.06.94-2.06 2.06-.94-2.06-.94-.94-2.06-.94 2.06-2.06.94z\"/><path d=\"M17.41 7.96l-1.37-1.37c-.4-.4-.92-.59-1.43-.59-.52 0-1.04.2-1.43.59L10.3 9.45l-7.72 7.72c-.78.78-.78 2.05 0 2.83L4 21.41c.39.39.9.59 1.41.59.51 0 1.02-.2 1.41-.59l7.78-7.78 2.81-2.81c.8-.78.8-2.07 0-2.86zM5.41 20L4 18.59l7.72-7.72 1.47 1.35L5.41 20z\"/>\n",
              "  </svg>\n",
              "      </button>\n",
              "      \n",
              "  <style>\n",
              "    .colab-df-container {\n",
              "      display:flex;\n",
              "      flex-wrap:wrap;\n",
              "      gap: 12px;\n",
              "    }\n",
              "\n",
              "    .colab-df-convert {\n",
              "      background-color: #E8F0FE;\n",
              "      border: none;\n",
              "      border-radius: 50%;\n",
              "      cursor: pointer;\n",
              "      display: none;\n",
              "      fill: #1967D2;\n",
              "      height: 32px;\n",
              "      padding: 0 0 0 0;\n",
              "      width: 32px;\n",
              "    }\n",
              "\n",
              "    .colab-df-convert:hover {\n",
              "      background-color: #E2EBFA;\n",
              "      box-shadow: 0px 1px 2px rgba(60, 64, 67, 0.3), 0px 1px 3px 1px rgba(60, 64, 67, 0.15);\n",
              "      fill: #174EA6;\n",
              "    }\n",
              "\n",
              "    [theme=dark] .colab-df-convert {\n",
              "      background-color: #3B4455;\n",
              "      fill: #D2E3FC;\n",
              "    }\n",
              "\n",
              "    [theme=dark] .colab-df-convert:hover {\n",
              "      background-color: #434B5C;\n",
              "      box-shadow: 0px 1px 3px 1px rgba(0, 0, 0, 0.15);\n",
              "      filter: drop-shadow(0px 1px 2px rgba(0, 0, 0, 0.3));\n",
              "      fill: #FFFFFF;\n",
              "    }\n",
              "  </style>\n",
              "\n",
              "      <script>\n",
              "        const buttonEl =\n",
              "          document.querySelector('#df-4df53f1c-b528-48c1-8d0b-49c7d8bf7ecb button.colab-df-convert');\n",
              "        buttonEl.style.display =\n",
              "          google.colab.kernel.accessAllowed ? 'block' : 'none';\n",
              "\n",
              "        async function convertToInteractive(key) {\n",
              "          const element = document.querySelector('#df-4df53f1c-b528-48c1-8d0b-49c7d8bf7ecb');\n",
              "          const dataTable =\n",
              "            await google.colab.kernel.invokeFunction('convertToInteractive',\n",
              "                                                     [key], {});\n",
              "          if (!dataTable) return;\n",
              "\n",
              "          const docLinkHtml = 'Like what you see? Visit the ' +\n",
              "            '<a target=\"_blank\" href=https://colab.research.google.com/notebooks/data_table.ipynb>data table notebook</a>'\n",
              "            + ' to learn more about interactive tables.';\n",
              "          element.innerHTML = '';\n",
              "          dataTable['output_type'] = 'display_data';\n",
              "          await google.colab.output.renderOutput(dataTable, element);\n",
              "          const docLink = document.createElement('div');\n",
              "          docLink.innerHTML = docLinkHtml;\n",
              "          element.appendChild(docLink);\n",
              "        }\n",
              "      </script>\n",
              "    </div>\n",
              "  </div>\n",
              "  "
            ]
          },
          "metadata": {},
          "execution_count": 21
        }
      ]
    },
    {
      "cell_type": "markdown",
      "source": [
        "Разобьём выборку на обучение и контроль по времени."
      ],
      "metadata": {
        "id": "ODJYMtnNWM5w"
      }
    },
    {
      "cell_type": "code",
      "source": [
        "from sklearn.model_selection import train_test_split\n",
        "\n",
        "split_ts = 1475519530\n",
        "interactions_train_df = interactions_full_df.loc[interactions_full_df.last_timestamp < split_ts].copy()\n",
        "interactions_test_df = interactions_full_df.loc[interactions_full_df.last_timestamp >= split_ts].copy()\n",
        "\n",
        "print(f\"# interactions on Train set: {len(interactions_train_df)}\")\n",
        "print(f\"# interactions on Test set: {len(interactions_test_df)}\")\n",
        "\n",
        "interactions_train_df"
      ],
      "metadata": {
        "id": "3F2CfAwoVrfo",
        "outputId": "ef0040e6-61ef-4400-dff3-35c91d06dda4",
        "execution": {
          "iopub.status.busy": "2022-06-09T09:51:28.028486Z",
          "iopub.execute_input": "2022-06-09T09:51:28.029222Z",
          "iopub.status.idle": "2022-06-09T09:51:28.053790Z",
          "shell.execute_reply.started": "2022-06-09T09:51:28.029187Z",
          "shell.execute_reply": "2022-06-09T09:51:28.053115Z"
        },
        "trusted": true,
        "colab": {
          "base_uri": "https://localhost:8080/",
          "height": 458
        }
      },
      "execution_count": 22,
      "outputs": [
        {
          "output_type": "stream",
          "name": "stdout",
          "text": [
            "# interactions on Train set: 29329\n",
            "# interactions on Test set: 9777\n"
          ]
        },
        {
          "output_type": "execute_result",
          "data": {
            "text/plain": [
              "                   personId             contentId  eventStrength  \\\n",
              "0      -1007001694607905623  -5065077552540450930            1.0   \n",
              "2      -1007001694607905623   -793729620925729327            1.0   \n",
              "6      -1032019229384696495  -1006791494035379303            1.0   \n",
              "7      -1032019229384696495  -1039912738963181810            1.0   \n",
              "8      -1032019229384696495  -1081723567492738167            2.0   \n",
              "...                     ...                   ...            ...   \n",
              "39099    997469202936578234   9112765177685685246            2.0   \n",
              "39100    998688566268269815  -1255189867397298842            1.0   \n",
              "39101    998688566268269815   -401664538366009049            1.0   \n",
              "39103    998688566268269815   6881796783400625893            1.0   \n",
              "39105    998688566268269815    739747367187387064            1.0   \n",
              "\n",
              "       last_timestamp  \n",
              "0          1470395911  \n",
              "2          1472834892  \n",
              "6          1469129122  \n",
              "7          1459376415  \n",
              "8          1464054093  \n",
              "...               ...  \n",
              "39099      1472479493  \n",
              "39100      1474567164  \n",
              "39101      1474567449  \n",
              "39103      1474567675  \n",
              "39105      1474567514  \n",
              "\n",
              "[29329 rows x 4 columns]"
            ],
            "text/html": [
              "\n",
              "  <div id=\"df-c56ac88a-ba4b-43b7-b03d-575c0d83e1d4\">\n",
              "    <div class=\"colab-df-container\">\n",
              "      <div>\n",
              "<style scoped>\n",
              "    .dataframe tbody tr th:only-of-type {\n",
              "        vertical-align: middle;\n",
              "    }\n",
              "\n",
              "    .dataframe tbody tr th {\n",
              "        vertical-align: top;\n",
              "    }\n",
              "\n",
              "    .dataframe thead th {\n",
              "        text-align: right;\n",
              "    }\n",
              "</style>\n",
              "<table border=\"1\" class=\"dataframe\">\n",
              "  <thead>\n",
              "    <tr style=\"text-align: right;\">\n",
              "      <th></th>\n",
              "      <th>personId</th>\n",
              "      <th>contentId</th>\n",
              "      <th>eventStrength</th>\n",
              "      <th>last_timestamp</th>\n",
              "    </tr>\n",
              "  </thead>\n",
              "  <tbody>\n",
              "    <tr>\n",
              "      <th>0</th>\n",
              "      <td>-1007001694607905623</td>\n",
              "      <td>-5065077552540450930</td>\n",
              "      <td>1.0</td>\n",
              "      <td>1470395911</td>\n",
              "    </tr>\n",
              "    <tr>\n",
              "      <th>2</th>\n",
              "      <td>-1007001694607905623</td>\n",
              "      <td>-793729620925729327</td>\n",
              "      <td>1.0</td>\n",
              "      <td>1472834892</td>\n",
              "    </tr>\n",
              "    <tr>\n",
              "      <th>6</th>\n",
              "      <td>-1032019229384696495</td>\n",
              "      <td>-1006791494035379303</td>\n",
              "      <td>1.0</td>\n",
              "      <td>1469129122</td>\n",
              "    </tr>\n",
              "    <tr>\n",
              "      <th>7</th>\n",
              "      <td>-1032019229384696495</td>\n",
              "      <td>-1039912738963181810</td>\n",
              "      <td>1.0</td>\n",
              "      <td>1459376415</td>\n",
              "    </tr>\n",
              "    <tr>\n",
              "      <th>8</th>\n",
              "      <td>-1032019229384696495</td>\n",
              "      <td>-1081723567492738167</td>\n",
              "      <td>2.0</td>\n",
              "      <td>1464054093</td>\n",
              "    </tr>\n",
              "    <tr>\n",
              "      <th>...</th>\n",
              "      <td>...</td>\n",
              "      <td>...</td>\n",
              "      <td>...</td>\n",
              "      <td>...</td>\n",
              "    </tr>\n",
              "    <tr>\n",
              "      <th>39099</th>\n",
              "      <td>997469202936578234</td>\n",
              "      <td>9112765177685685246</td>\n",
              "      <td>2.0</td>\n",
              "      <td>1472479493</td>\n",
              "    </tr>\n",
              "    <tr>\n",
              "      <th>39100</th>\n",
              "      <td>998688566268269815</td>\n",
              "      <td>-1255189867397298842</td>\n",
              "      <td>1.0</td>\n",
              "      <td>1474567164</td>\n",
              "    </tr>\n",
              "    <tr>\n",
              "      <th>39101</th>\n",
              "      <td>998688566268269815</td>\n",
              "      <td>-401664538366009049</td>\n",
              "      <td>1.0</td>\n",
              "      <td>1474567449</td>\n",
              "    </tr>\n",
              "    <tr>\n",
              "      <th>39103</th>\n",
              "      <td>998688566268269815</td>\n",
              "      <td>6881796783400625893</td>\n",
              "      <td>1.0</td>\n",
              "      <td>1474567675</td>\n",
              "    </tr>\n",
              "    <tr>\n",
              "      <th>39105</th>\n",
              "      <td>998688566268269815</td>\n",
              "      <td>739747367187387064</td>\n",
              "      <td>1.0</td>\n",
              "      <td>1474567514</td>\n",
              "    </tr>\n",
              "  </tbody>\n",
              "</table>\n",
              "<p>29329 rows × 4 columns</p>\n",
              "</div>\n",
              "      <button class=\"colab-df-convert\" onclick=\"convertToInteractive('df-c56ac88a-ba4b-43b7-b03d-575c0d83e1d4')\"\n",
              "              title=\"Convert this dataframe to an interactive table.\"\n",
              "              style=\"display:none;\">\n",
              "        \n",
              "  <svg xmlns=\"http://www.w3.org/2000/svg\" height=\"24px\"viewBox=\"0 0 24 24\"\n",
              "       width=\"24px\">\n",
              "    <path d=\"M0 0h24v24H0V0z\" fill=\"none\"/>\n",
              "    <path d=\"M18.56 5.44l.94 2.06.94-2.06 2.06-.94-2.06-.94-.94-2.06-.94 2.06-2.06.94zm-11 1L8.5 8.5l.94-2.06 2.06-.94-2.06-.94L8.5 2.5l-.94 2.06-2.06.94zm10 10l.94 2.06.94-2.06 2.06-.94-2.06-.94-.94-2.06-.94 2.06-2.06.94z\"/><path d=\"M17.41 7.96l-1.37-1.37c-.4-.4-.92-.59-1.43-.59-.52 0-1.04.2-1.43.59L10.3 9.45l-7.72 7.72c-.78.78-.78 2.05 0 2.83L4 21.41c.39.39.9.59 1.41.59.51 0 1.02-.2 1.41-.59l7.78-7.78 2.81-2.81c.8-.78.8-2.07 0-2.86zM5.41 20L4 18.59l7.72-7.72 1.47 1.35L5.41 20z\"/>\n",
              "  </svg>\n",
              "      </button>\n",
              "      \n",
              "  <style>\n",
              "    .colab-df-container {\n",
              "      display:flex;\n",
              "      flex-wrap:wrap;\n",
              "      gap: 12px;\n",
              "    }\n",
              "\n",
              "    .colab-df-convert {\n",
              "      background-color: #E8F0FE;\n",
              "      border: none;\n",
              "      border-radius: 50%;\n",
              "      cursor: pointer;\n",
              "      display: none;\n",
              "      fill: #1967D2;\n",
              "      height: 32px;\n",
              "      padding: 0 0 0 0;\n",
              "      width: 32px;\n",
              "    }\n",
              "\n",
              "    .colab-df-convert:hover {\n",
              "      background-color: #E2EBFA;\n",
              "      box-shadow: 0px 1px 2px rgba(60, 64, 67, 0.3), 0px 1px 3px 1px rgba(60, 64, 67, 0.15);\n",
              "      fill: #174EA6;\n",
              "    }\n",
              "\n",
              "    [theme=dark] .colab-df-convert {\n",
              "      background-color: #3B4455;\n",
              "      fill: #D2E3FC;\n",
              "    }\n",
              "\n",
              "    [theme=dark] .colab-df-convert:hover {\n",
              "      background-color: #434B5C;\n",
              "      box-shadow: 0px 1px 3px 1px rgba(0, 0, 0, 0.15);\n",
              "      filter: drop-shadow(0px 1px 2px rgba(0, 0, 0, 0.3));\n",
              "      fill: #FFFFFF;\n",
              "    }\n",
              "  </style>\n",
              "\n",
              "      <script>\n",
              "        const buttonEl =\n",
              "          document.querySelector('#df-c56ac88a-ba4b-43b7-b03d-575c0d83e1d4 button.colab-df-convert');\n",
              "        buttonEl.style.display =\n",
              "          google.colab.kernel.accessAllowed ? 'block' : 'none';\n",
              "\n",
              "        async function convertToInteractive(key) {\n",
              "          const element = document.querySelector('#df-c56ac88a-ba4b-43b7-b03d-575c0d83e1d4');\n",
              "          const dataTable =\n",
              "            await google.colab.kernel.invokeFunction('convertToInteractive',\n",
              "                                                     [key], {});\n",
              "          if (!dataTable) return;\n",
              "\n",
              "          const docLinkHtml = 'Like what you see? Visit the ' +\n",
              "            '<a target=\"_blank\" href=https://colab.research.google.com/notebooks/data_table.ipynb>data table notebook</a>'\n",
              "            + ' to learn more about interactive tables.';\n",
              "          element.innerHTML = '';\n",
              "          dataTable['output_type'] = 'display_data';\n",
              "          await google.colab.output.renderOutput(dataTable, element);\n",
              "          const docLink = document.createElement('div');\n",
              "          docLink.innerHTML = docLinkHtml;\n",
              "          element.appendChild(docLink);\n",
              "        }\n",
              "      </script>\n",
              "    </div>\n",
              "  </div>\n",
              "  "
            ]
          },
          "metadata": {},
          "execution_count": 22
        }
      ]
    },
    {
      "cell_type": "markdown",
      "source": [
        "Для удобства подсчёта качества запишем данные в формате, где строка соответствует пользователю, а столбцы будут истинными метками и предсказаниями в виде списков."
      ],
      "metadata": {
        "id": "h5G3FTYOXLVg"
      }
    },
    {
      "cell_type": "code",
      "source": [
        "interactions = (\n",
        "    interactions_train_df\n",
        "    .groupby(\"personId\")[\"contentId\"].agg(lambda x: list(x))\n",
        "    .reset_index()\n",
        "    .rename(columns={\"contentId\": \"true_train\"})\n",
        "    .set_index(\"personId\")\n",
        ")\n",
        "\n",
        "interactions[\"true_test\"] = (\n",
        "    interactions_test_df\n",
        "    .groupby(\"personId\")[\"contentId\"].agg(lambda x: list(x))\n",
        ")\n",
        "\n",
        "# заполнение пропусков пустыми списками\n",
        "interactions.loc[pd.isnull(interactions.true_test), \"true_test\"] = [\n",
        "    \"\" for x in range(len(interactions.loc[pd.isnull(interactions.true_test), \"true_test\"]))]\n",
        "\n",
        "interactions.head(1)"
      ],
      "metadata": {
        "id": "RT-_toqfXOa2",
        "outputId": "75c0b7a6-9f1c-47b3-af2c-251fd6eb60b5",
        "execution": {
          "iopub.status.busy": "2022-06-09T09:51:28.054921Z",
          "iopub.execute_input": "2022-06-09T09:51:28.055816Z",
          "iopub.status.idle": "2022-06-09T09:51:28.110622Z",
          "shell.execute_reply.started": "2022-06-09T09:51:28.055781Z",
          "shell.execute_reply": "2022-06-09T09:51:28.109860Z"
        },
        "trusted": true,
        "colab": {
          "base_uri": "https://localhost:8080/",
          "height": 112
        }
      },
      "execution_count": 23,
      "outputs": [
        {
          "output_type": "execute_result",
          "data": {
            "text/plain": [
              "                                                       true_train  \\\n",
              "personId                                                            \n",
              "-1007001694607905623  [-5065077552540450930, -793729620925729327]   \n",
              "\n",
              "                                                              true_test  \n",
              "personId                                                                 \n",
              "-1007001694607905623  [-6623581327558800021, 1469580151036142903, 72...  "
            ],
            "text/html": [
              "\n",
              "  <div id=\"df-f260e92e-934d-4766-8aa2-bd0cc6d36323\">\n",
              "    <div class=\"colab-df-container\">\n",
              "      <div>\n",
              "<style scoped>\n",
              "    .dataframe tbody tr th:only-of-type {\n",
              "        vertical-align: middle;\n",
              "    }\n",
              "\n",
              "    .dataframe tbody tr th {\n",
              "        vertical-align: top;\n",
              "    }\n",
              "\n",
              "    .dataframe thead th {\n",
              "        text-align: right;\n",
              "    }\n",
              "</style>\n",
              "<table border=\"1\" class=\"dataframe\">\n",
              "  <thead>\n",
              "    <tr style=\"text-align: right;\">\n",
              "      <th></th>\n",
              "      <th>true_train</th>\n",
              "      <th>true_test</th>\n",
              "    </tr>\n",
              "    <tr>\n",
              "      <th>personId</th>\n",
              "      <th></th>\n",
              "      <th></th>\n",
              "    </tr>\n",
              "  </thead>\n",
              "  <tbody>\n",
              "    <tr>\n",
              "      <th>-1007001694607905623</th>\n",
              "      <td>[-5065077552540450930, -793729620925729327]</td>\n",
              "      <td>[-6623581327558800021, 1469580151036142903, 72...</td>\n",
              "    </tr>\n",
              "  </tbody>\n",
              "</table>\n",
              "</div>\n",
              "      <button class=\"colab-df-convert\" onclick=\"convertToInteractive('df-f260e92e-934d-4766-8aa2-bd0cc6d36323')\"\n",
              "              title=\"Convert this dataframe to an interactive table.\"\n",
              "              style=\"display:none;\">\n",
              "        \n",
              "  <svg xmlns=\"http://www.w3.org/2000/svg\" height=\"24px\"viewBox=\"0 0 24 24\"\n",
              "       width=\"24px\">\n",
              "    <path d=\"M0 0h24v24H0V0z\" fill=\"none\"/>\n",
              "    <path d=\"M18.56 5.44l.94 2.06.94-2.06 2.06-.94-2.06-.94-.94-2.06-.94 2.06-2.06.94zm-11 1L8.5 8.5l.94-2.06 2.06-.94-2.06-.94L8.5 2.5l-.94 2.06-2.06.94zm10 10l.94 2.06.94-2.06 2.06-.94-2.06-.94-.94-2.06-.94 2.06-2.06.94z\"/><path d=\"M17.41 7.96l-1.37-1.37c-.4-.4-.92-.59-1.43-.59-.52 0-1.04.2-1.43.59L10.3 9.45l-7.72 7.72c-.78.78-.78 2.05 0 2.83L4 21.41c.39.39.9.59 1.41.59.51 0 1.02-.2 1.41-.59l7.78-7.78 2.81-2.81c.8-.78.8-2.07 0-2.86zM5.41 20L4 18.59l7.72-7.72 1.47 1.35L5.41 20z\"/>\n",
              "  </svg>\n",
              "      </button>\n",
              "      \n",
              "  <style>\n",
              "    .colab-df-container {\n",
              "      display:flex;\n",
              "      flex-wrap:wrap;\n",
              "      gap: 12px;\n",
              "    }\n",
              "\n",
              "    .colab-df-convert {\n",
              "      background-color: #E8F0FE;\n",
              "      border: none;\n",
              "      border-radius: 50%;\n",
              "      cursor: pointer;\n",
              "      display: none;\n",
              "      fill: #1967D2;\n",
              "      height: 32px;\n",
              "      padding: 0 0 0 0;\n",
              "      width: 32px;\n",
              "    }\n",
              "\n",
              "    .colab-df-convert:hover {\n",
              "      background-color: #E2EBFA;\n",
              "      box-shadow: 0px 1px 2px rgba(60, 64, 67, 0.3), 0px 1px 3px 1px rgba(60, 64, 67, 0.15);\n",
              "      fill: #174EA6;\n",
              "    }\n",
              "\n",
              "    [theme=dark] .colab-df-convert {\n",
              "      background-color: #3B4455;\n",
              "      fill: #D2E3FC;\n",
              "    }\n",
              "\n",
              "    [theme=dark] .colab-df-convert:hover {\n",
              "      background-color: #434B5C;\n",
              "      box-shadow: 0px 1px 3px 1px rgba(0, 0, 0, 0.15);\n",
              "      filter: drop-shadow(0px 1px 2px rgba(0, 0, 0, 0.3));\n",
              "      fill: #FFFFFF;\n",
              "    }\n",
              "  </style>\n",
              "\n",
              "      <script>\n",
              "        const buttonEl =\n",
              "          document.querySelector('#df-f260e92e-934d-4766-8aa2-bd0cc6d36323 button.colab-df-convert');\n",
              "        buttonEl.style.display =\n",
              "          google.colab.kernel.accessAllowed ? 'block' : 'none';\n",
              "\n",
              "        async function convertToInteractive(key) {\n",
              "          const element = document.querySelector('#df-f260e92e-934d-4766-8aa2-bd0cc6d36323');\n",
              "          const dataTable =\n",
              "            await google.colab.kernel.invokeFunction('convertToInteractive',\n",
              "                                                     [key], {});\n",
              "          if (!dataTable) return;\n",
              "\n",
              "          const docLinkHtml = 'Like what you see? Visit the ' +\n",
              "            '<a target=\"_blank\" href=https://colab.research.google.com/notebooks/data_table.ipynb>data table notebook</a>'\n",
              "            + ' to learn more about interactive tables.';\n",
              "          element.innerHTML = '';\n",
              "          dataTable['output_type'] = 'display_data';\n",
              "          await google.colab.output.renderOutput(dataTable, element);\n",
              "          const docLink = document.createElement('div');\n",
              "          docLink.innerHTML = docLinkHtml;\n",
              "          element.appendChild(docLink);\n",
              "        }\n",
              "      </script>\n",
              "    </div>\n",
              "  </div>\n",
              "  "
            ]
          },
          "metadata": {},
          "execution_count": 23
        }
      ]
    },
    {
      "cell_type": "markdown",
      "source": [
        "# Библиотека LightFM"
      ],
      "metadata": {
        "id": "-UWDyWKsamSa"
      }
    },
    {
      "cell_type": "markdown",
      "source": [
        "Для рекомендации Вы будете пользоваться библиотекой [LightFM](https://making.lyst.com/lightfm/docs/home.html), в которой реализованы популярные алгоритмы. Для оценивания качества рекомендации, как и на семинаре, будем пользоваться метрикой *precision@10*."
      ],
      "metadata": {
        "id": "L-iXjvdZa25Z"
      }
    },
    {
      "cell_type": "code",
      "source": [
        "!pip install lightfm"
      ],
      "metadata": {
        "execution": {
          "iopub.status.busy": "2022-06-09T09:51:28.111597Z",
          "iopub.execute_input": "2022-06-09T09:51:28.112355Z",
          "iopub.status.idle": "2022-06-09T09:51:40.116298Z",
          "shell.execute_reply.started": "2022-06-09T09:51:28.112322Z",
          "shell.execute_reply": "2022-06-09T09:51:40.114976Z"
        },
        "trusted": true,
        "colab": {
          "base_uri": "https://localhost:8080/"
        },
        "id": "j-m6Fkm47-Mo",
        "outputId": "31989898-f900-4d82-ed51-6edc0f49c07f"
      },
      "execution_count": 24,
      "outputs": [
        {
          "output_type": "stream",
          "name": "stdout",
          "text": [
            "Looking in indexes: https://pypi.org/simple, https://us-python.pkg.dev/colab-wheels/public/simple/\n",
            "Collecting lightfm\n",
            "  Downloading lightfm-1.16.tar.gz (310 kB)\n",
            "\u001b[K     |████████████████████████████████| 310 kB 13.6 MB/s \n",
            "\u001b[?25hRequirement already satisfied: numpy in /usr/local/lib/python3.7/dist-packages (from lightfm) (1.21.6)\n",
            "Requirement already satisfied: scipy>=0.17.0 in /usr/local/lib/python3.7/dist-packages (from lightfm) (1.4.1)\n",
            "Requirement already satisfied: requests in /usr/local/lib/python3.7/dist-packages (from lightfm) (2.23.0)\n",
            "Requirement already satisfied: scikit-learn in /usr/local/lib/python3.7/dist-packages (from lightfm) (1.0.2)\n",
            "Requirement already satisfied: certifi>=2017.4.17 in /usr/local/lib/python3.7/dist-packages (from requests->lightfm) (2022.5.18.1)\n",
            "Requirement already satisfied: idna<3,>=2.5 in /usr/local/lib/python3.7/dist-packages (from requests->lightfm) (2.10)\n",
            "Requirement already satisfied: urllib3!=1.25.0,!=1.25.1,<1.26,>=1.21.1 in /usr/local/lib/python3.7/dist-packages (from requests->lightfm) (1.24.3)\n",
            "Requirement already satisfied: chardet<4,>=3.0.2 in /usr/local/lib/python3.7/dist-packages (from requests->lightfm) (3.0.4)\n",
            "Requirement already satisfied: threadpoolctl>=2.0.0 in /usr/local/lib/python3.7/dist-packages (from scikit-learn->lightfm) (3.1.0)\n",
            "Requirement already satisfied: joblib>=0.11 in /usr/local/lib/python3.7/dist-packages (from scikit-learn->lightfm) (1.1.0)\n",
            "Building wheels for collected packages: lightfm\n",
            "  Building wheel for lightfm (setup.py) ... \u001b[?25l\u001b[?25hdone\n",
            "  Created wheel for lightfm: filename=lightfm-1.16-cp37-cp37m-linux_x86_64.whl size=705363 sha256=24cd55e4da0e0a65647a42472595512ddf5113866d321d64a3031121583fcf1e\n",
            "  Stored in directory: /root/.cache/pip/wheels/f8/56/28/5772a3bd3413d65f03aa452190b00898b680b10028a1021914\n",
            "Successfully built lightfm\n",
            "Installing collected packages: lightfm\n",
            "Successfully installed lightfm-1.16\n"
          ]
        }
      ]
    },
    {
      "cell_type": "code",
      "source": [
        "from lightfm import LightFM\n",
        "from lightfm.evaluation import precision_at_k"
      ],
      "metadata": {
        "id": "Qtyn38PZXPLf",
        "execution": {
          "iopub.status.busy": "2022-06-09T09:51:40.118377Z",
          "iopub.execute_input": "2022-06-09T09:51:40.119430Z",
          "iopub.status.idle": "2022-06-09T09:51:40.136026Z",
          "shell.execute_reply.started": "2022-06-09T09:51:40.119373Z",
          "shell.execute_reply": "2022-06-09T09:51:40.134955Z"
        },
        "trusted": true
      },
      "execution_count": 25,
      "outputs": []
    },
    {
      "cell_type": "markdown",
      "source": [
        "## Задание 1 (2 балла)"
      ],
      "metadata": {
        "id": "0CjyGqulcZTf"
      }
    },
    {
      "cell_type": "markdown",
      "source": [
        "Модели в LightFM работают с разреженными матрицами. Создайте разреженные матрицы `data_train` и `data_test` (размером количество пользователей на количество статей), такие что на пересечении строки пользователя и столбца статьи стоит сила их взаимодействия, если взаимодействие было, и стоит ноль, если взаимодействия не было."
      ],
      "metadata": {
        "id": "4Sof6V5Dd4h9"
      }
    },
    {
      "cell_type": "code",
      "source": [
        "# Ваш код здесь\n",
        "from scipy.sparse import csr_matrix\n",
        "\n",
        "def sp_matrix(data, users, contents):\n",
        "    \n",
        "    person_ids = data['personId'].values\n",
        "    content_ids = data['contentId'].values\n",
        "    event_strengths = data['eventStrength'].values\n",
        "    \n",
        "    matr = pd.DataFrame(0, index=users, columns=contents)\n",
        "    \n",
        "    for i in range(data.shape[0]):\n",
        "        if event_strengths[i] is np.nan:\n",
        "            matr.loc[person_ids[i], content_ids[i]] = 0\n",
        "        else:\n",
        "            matr.loc[person_ids[i], content_ids[i]] = event_strengths[i] \n",
        "    sp_matr = csr_matrix(matr.values)\n",
        "    # Удалим nan'ы из матрицы\n",
        "    np.isnan(sp_matr.data).any()\n",
        "    sp_matr.data = np.nan_to_num(sp_matr.data)\n",
        "    sp_matr.eliminate_zeros()\n",
        "    \n",
        "    return sp_matr\n",
        "\n",
        "all_content_ids = set(pd.concat([interactions_train_df['contentId'], interactions_test_df['contentId']]))\n",
        "all_person_ids = set(pd.concat([interactions_train_df['personId'], interactions_test_df['personId']]))\n",
        "\n",
        "data_train = sp_matrix(interactions_train_df,all_person_ids, all_content_ids)\n",
        "data_test = sp_matrix(interactions_test_df,all_person_ids, all_content_ids)"
      ],
      "metadata": {
        "id": "1cLZ5ga4eIdg",
        "execution": {
          "iopub.status.busy": "2022-06-09T09:51:40.139920Z",
          "iopub.execute_input": "2022-06-09T09:51:40.142440Z",
          "iopub.status.idle": "2022-06-09T09:52:00.311212Z",
          "shell.execute_reply.started": "2022-06-09T09:51:40.142398Z",
          "shell.execute_reply": "2022-06-09T09:52:00.310336Z"
        },
        "trusted": true
      },
      "execution_count": 26,
      "outputs": []
    },
    {
      "cell_type": "code",
      "source": [
        "data_train, data_test"
      ],
      "metadata": {
        "execution": {
          "iopub.status.busy": "2022-06-09T09:52:00.312652Z",
          "iopub.execute_input": "2022-06-09T09:52:00.313121Z",
          "iopub.status.idle": "2022-06-09T09:52:00.320224Z",
          "shell.execute_reply.started": "2022-06-09T09:52:00.313078Z",
          "shell.execute_reply": "2022-06-09T09:52:00.319314Z"
        },
        "trusted": true,
        "colab": {
          "base_uri": "https://localhost:8080/"
        },
        "id": "7Yp_wgZY7-Mp",
        "outputId": "aab469c3-ccf9-4fcc-8c7e-9f68432b9348"
      },
      "execution_count": 27,
      "outputs": [
        {
          "output_type": "execute_result",
          "data": {
            "text/plain": [
              "(<1140x2984 sparse matrix of type '<class 'numpy.float64'>'\n",
              " \twith 29329 stored elements in Compressed Sparse Row format>,\n",
              " <1140x2984 sparse matrix of type '<class 'numpy.float64'>'\n",
              " \twith 9777 stored elements in Compressed Sparse Row format>)"
            ]
          },
          "metadata": {},
          "execution_count": 27
        }
      ]
    },
    {
      "cell_type": "markdown",
      "source": [
        "## Задание 2 (1 балл)"
      ],
      "metadata": {
        "id": "AiNGVzTveRXE"
      }
    },
    {
      "cell_type": "markdown",
      "source": [
        "Обучите модель LightFM с `loss=\"warp\"` и посчитайте *precision@10* на тесте."
      ],
      "metadata": {
        "id": "ZPfVK3STeryM"
      }
    },
    {
      "cell_type": "code",
      "source": [
        "# Ваш код здесь\n",
        "model = LightFM(loss=\"warp\")\n",
        "model.fit(data_train, epochs=20)\n",
        "\n",
        "train_prec = precision_at_k(model, data_train, k=10)\n",
        "test_prec = precision_at_k(model, data_test, k=10, \n",
        "                           train_interactions=data_train)\n",
        "\n",
        "print(\"Precision on train:\", train_prec.mean())\n",
        "print(\"Precision on test:\", test_prec.mean())"
      ],
      "metadata": {
        "id": "YFQxeHw8eVLz",
        "execution": {
          "iopub.status.busy": "2022-06-09T09:52:00.321847Z",
          "iopub.execute_input": "2022-06-09T09:52:00.322326Z",
          "iopub.status.idle": "2022-06-09T09:52:01.135593Z",
          "shell.execute_reply.started": "2022-06-09T09:52:00.322284Z",
          "shell.execute_reply": "2022-06-09T09:52:01.134527Z"
        },
        "trusted": true,
        "colab": {
          "base_uri": "https://localhost:8080/"
        },
        "outputId": "de365618-aeae-4970-8350-378b3f7a706b"
      },
      "execution_count": 28,
      "outputs": [
        {
          "output_type": "stream",
          "name": "stdout",
          "text": [
            "Precision on train: 0.226259\n",
            "Precision on test: 0.0069246436\n"
          ]
        }
      ]
    },
    {
      "cell_type": "markdown",
      "source": [
        "## Задание 3 (3 балла)"
      ],
      "metadata": {
        "id": "qZDsG1iAfdrl"
      }
    },
    {
      "cell_type": "markdown",
      "source": [
        "При вызове метода `fit` LightFM позволяет передавать в `item_features` признаковое описание объектов. Воспользуемся этим. Будем получать признаковое описание из текста статьи в виде [TF-IDF](https://ru.wikipedia.org/wiki/TF-IDF) (можно воспользоваться `TfidfVectorizer` из scikit-learn). Создайте матрицу `feat` размером количесвто статей на размер признакового описание и обучите LightFM с `loss=\"warp\"` и посчитайте precision@10 на тесте."
      ],
      "metadata": {
        "id": "F93chvtbgA9N"
      }
    },
    {
      "cell_type": "code",
      "source": [
        "# Ваш код здесь\n",
        "from sklearn.feature_extraction.text import TfidfVectorizer\n",
        "\n",
        "tfid = TfidfVectorizer()\n",
        "feat = tfid.fit_transform(articles_df['text'])"
      ],
      "metadata": {
        "id": "5SvUi_Fofgf5",
        "execution": {
          "iopub.status.busy": "2022-06-09T09:52:01.136992Z",
          "iopub.execute_input": "2022-06-09T09:52:01.137423Z",
          "iopub.status.idle": "2022-06-09T09:52:04.335790Z",
          "shell.execute_reply.started": "2022-06-09T09:52:01.137381Z",
          "shell.execute_reply": "2022-06-09T09:52:04.334582Z"
        },
        "trusted": true
      },
      "execution_count": 29,
      "outputs": []
    },
    {
      "cell_type": "code",
      "source": [
        "model2 = LightFM(loss=\"warp\")\n",
        "model2.fit(data_train, item_features=feat, epochs=20)\n",
        "\n",
        "train_prec2 = precision_at_k(model2, data_train, item_features=feat, k=10)\n",
        "test_prec2 = precision_at_k(model2, data_test, item_features=feat, k=10, \n",
        "                            train_interactions=data_train)\n",
        "\n",
        "print(\"Precision on train:\", train_prec2.mean())\n",
        "print(\"Precision on test:\", test_prec2.mean())"
      ],
      "metadata": {
        "execution": {
          "iopub.status.busy": "2022-06-09T09:52:04.337049Z",
          "iopub.execute_input": "2022-06-09T09:52:04.337410Z",
          "iopub.status.idle": "2022-06-09T09:53:11.449463Z",
          "shell.execute_reply.started": "2022-06-09T09:52:04.337379Z",
          "shell.execute_reply": "2022-06-09T09:53:11.448469Z"
        },
        "trusted": true,
        "colab": {
          "base_uri": "https://localhost:8080/"
        },
        "id": "53J9KO0n7-Mq",
        "outputId": "2603ea5d-59c7-44a0-d371-81cafc794e7e"
      },
      "execution_count": 30,
      "outputs": [
        {
          "output_type": "stream",
          "name": "stdout",
          "text": [
            "Precision on train: 0.23084533\n",
            "Precision on test: 0.0069246436\n"
          ]
        }
      ]
    },
    {
      "cell_type": "markdown",
      "source": [
        "## Задание 4 (2 балла)"
      ],
      "metadata": {
        "id": "8Lwuex6PpsFw"
      }
    },
    {
      "cell_type": "markdown",
      "source": [
        "В задании 3 мы использовали сырой текст статей. В этом задании необходимо сначала сделать предобработку текста (привести к нижнему регистру, убрать стоп слова, привести слова к номральной форме и т.д.), после чего обучите модель и оценить качество на тестовых данных."
      ],
      "metadata": {
        "id": "5aZcHjSzp2cZ"
      }
    },
    {
      "cell_type": "code",
      "source": [
        "# Ваш код здесь\n",
        "from nltk.stem.porter import PorterStemmer\n",
        "from nltk.corpus import stopwords \n",
        "nltk.download('stopwords')\n",
        "stop_words = stopwords.words('english')\n",
        "porter = PorterStemmer()"
      ],
      "metadata": {
        "id": "HDSaOLiJpdGj",
        "execution": {
          "iopub.status.busy": "2022-06-09T09:53:11.450727Z",
          "iopub.execute_input": "2022-06-09T09:53:11.451102Z",
          "iopub.status.idle": "2022-06-09T09:53:11.538684Z",
          "shell.execute_reply.started": "2022-06-09T09:53:11.451071Z",
          "shell.execute_reply": "2022-06-09T09:53:11.537996Z"
        },
        "trusted": true,
        "colab": {
          "base_uri": "https://localhost:8080/"
        },
        "outputId": "9f579ce5-a80b-4aa2-a6d4-f6cfc090245b"
      },
      "execution_count": 31,
      "outputs": [
        {
          "output_type": "stream",
          "name": "stdout",
          "text": [
            "[nltk_data] Downloading package stopwords to /root/nltk_data...\n",
            "[nltk_data]   Unzipping corpora/stopwords.zip.\n"
          ]
        }
      ]
    },
    {
      "cell_type": "code",
      "source": [
        "def preprocess_text(text):    \n",
        "    words = re.sub(r\"[^A-Za-z0-9\\-]\", \" \", text).lower().split()\n",
        "    for word in words:\n",
        "        if word not in stop_words:\n",
        "            words = [porter.stem(word)]\n",
        "    return words"
      ],
      "metadata": {
        "execution": {
          "iopub.status.busy": "2022-06-09T09:53:11.539829Z",
          "iopub.execute_input": "2022-06-09T09:53:11.540240Z",
          "iopub.status.idle": "2022-06-09T09:53:11.544999Z",
          "shell.execute_reply.started": "2022-06-09T09:53:11.540212Z",
          "shell.execute_reply": "2022-06-09T09:53:11.544281Z"
        },
        "trusted": true,
        "id": "RQPZgNXi7-Mr"
      },
      "execution_count": 32,
      "outputs": []
    },
    {
      "cell_type": "code",
      "source": [
        "tfid2 = TfidfVectorizer(analyzer='word', tokenizer=preprocess_text)\n",
        "feat2 = tfid2.fit_transform(articles_df['text'])\n",
        "\n",
        "model3 = LightFM(loss=\"warp\")\n",
        "model3.fit(data_train, item_features=feat2, epochs=20)"
      ],
      "metadata": {
        "execution": {
          "iopub.status.busy": "2022-06-09T09:53:11.546317Z",
          "iopub.execute_input": "2022-06-09T09:53:11.546596Z",
          "iopub.status.idle": "2022-06-09T09:54:08.774693Z",
          "shell.execute_reply.started": "2022-06-09T09:53:11.546570Z",
          "shell.execute_reply": "2022-06-09T09:54:08.773800Z"
        },
        "trusted": true,
        "colab": {
          "base_uri": "https://localhost:8080/"
        },
        "id": "aThpAbpx7-Mr",
        "outputId": "6b96349e-eb23-4721-d88e-af08261dbbf1"
      },
      "execution_count": 33,
      "outputs": [
        {
          "output_type": "execute_result",
          "data": {
            "text/plain": [
              "<lightfm.lightfm.LightFM at 0x7f5e142274d0>"
            ]
          },
          "metadata": {},
          "execution_count": 33
        }
      ]
    },
    {
      "cell_type": "code",
      "source": [
        "train_prec3 = precision_at_k(model3, data_train, item_features=feat2, k=10)\n",
        "test_prec3 = precision_at_k(model3, data_test, item_features=feat2, k=10, \n",
        "                            train_interactions=data_train)\n",
        "\n",
        "print(\"Precision on train:\", train_prec3.mean())\n",
        "print(\"Precision on test:\", test_prec3.mean())"
      ],
      "metadata": {
        "execution": {
          "iopub.status.busy": "2022-06-09T09:54:08.776028Z",
          "iopub.execute_input": "2022-06-09T09:54:08.776360Z",
          "iopub.status.idle": "2022-06-09T09:54:09.214587Z",
          "shell.execute_reply.started": "2022-06-09T09:54:08.776332Z",
          "shell.execute_reply": "2022-06-09T09:54:09.213689Z"
        },
        "trusted": true,
        "colab": {
          "base_uri": "https://localhost:8080/"
        },
        "id": "9oUN4P2d7-Ms",
        "outputId": "45f3602d-fa7b-4f72-fd49-41ea714709a4"
      },
      "execution_count": 34,
      "outputs": [
        {
          "output_type": "stream",
          "name": "stdout",
          "text": [
            "Precision on train: 0.16852519\n",
            "Precision on test: 0.0052953158\n"
          ]
        }
      ]
    },
    {
      "cell_type": "markdown",
      "source": [
        "Улучшилось ли качество предсказания?"
      ],
      "metadata": {
        "id": "VgayAPRpqn7L"
      }
    },
    {
      "cell_type": "markdown",
      "source": [
        "Нет, стало только хуже."
      ],
      "metadata": {
        "id": "kQZ-KYMm7-Ms"
      }
    },
    {
      "cell_type": "markdown",
      "source": [
        "## Задание 5 (2 балла)"
      ],
      "metadata": {
        "id": "XKRzLLodq3gq"
      }
    },
    {
      "cell_type": "markdown",
      "source": [
        "Подберите гиперпараметры модели LightFM (`n_components` и др.) для улучшения качества модели."
      ],
      "metadata": {
        "id": "brjHl49Aq8su"
      }
    },
    {
      "cell_type": "markdown",
      "source": [
        "## Бонусное задание (3 балла)"
      ],
      "metadata": {
        "id": "xJA7v07NrYSF"
      }
    },
    {
      "cell_type": "markdown",
      "source": [
        "Выше мы использовали достаточно простое представление текста статьи в виде TF-IDF. В этом задании Вам нужно представить текст статьи (можно вместе с заголовком) в виде эмбеддинга полученного с помощью рекуррентной сети или трансформера (можно использовать любую предобученную модель, которая Вам нравится). Обучите модель с ипользованием этих эмеддингов и сравните результаты с предыдущими."
      ],
      "metadata": {
        "id": "veLFUoVRrisk"
      }
    },
    {
      "cell_type": "code",
      "source": [
        "# Ваш код здесь"
      ],
      "metadata": {
        "id": "CQmn1cb-rXU3"
      },
      "execution_count": null,
      "outputs": []
    }
  ]
}