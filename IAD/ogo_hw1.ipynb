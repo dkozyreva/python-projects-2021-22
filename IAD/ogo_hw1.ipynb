{
 "cells": [
  {
   "cell_type": "markdown",
   "metadata": {
    "id": "Q_upCOEI3Upu"
   },
   "source": [
    "# Основы глубинного обучения, майнор ИАД\n",
    "\n",
    "## Домашнее задание 1. Введение в PyTorch. Полносвязные нейронные сети.\n",
    "\n",
    "### Общая информация\n",
    "\n",
    "Дата выдачи: 06.10.2021\n",
    "\n",
    "Мягкий дедлайн: 23:59MSK 25.10.2021\n",
    "\n",
    "Жесткий дедлайн: 23:59MSK 28.10.2021\n",
    "\n",
    "### Оценивание и штрафы\n",
    "Максимально допустимая оценка за работу — 10 баллов. За каждый день просрочки снимается 1 балл. Сдавать задание после жёсткого дедлайна сдачи нельзя.\n",
    "\n",
    "Задание выполняется самостоятельно. «Похожие» решения считаются плагиатом и все задействованные студенты (в том числе те, у кого списали) не могут получить за него больше 0 баллов. Если вы нашли решение какого-то из заданий (или его часть) в открытом источнике, необходимо указать ссылку на этот источник в отдельном блоке в конце вашей работы (скорее всего вы будете не единственным, кто это нашел, поэтому чтобы исключить подозрение в плагиате, необходима ссылка на источник).\n",
    "\n",
    "Неэффективная реализация кода может негативно отразиться на оценке.\n",
    "Также оценка может быть снижена за плохо читаемый код и плохо оформленные графики. Все ответы должны сопровождаться кодом или комментариями о том, как они были получены.\n",
    "\n",
    "### О задании\n",
    "\n",
    "В этом задании вам предстоит предсказывать год выпуска песни по некоторым звуковым признакам: [данные](https://archive.ics.uci.edu/ml/datasets/yearpredictionmsd). В ячейках ниже находится код для загрузки данных. Обратите внимание, что обучающая и тестовая выборки располагаются в одном файле, поэтому НЕ меняйте ячейку, в которой производится деление данных."
   ]
  },
  {
   "cell_type": "code",
   "execution_count": 13,
   "metadata": {},
   "outputs": [
    {
     "name": "stdout",
     "output_type": "stream",
     "text": [
      "Collecting wget\n",
      "  Downloading wget-3.2.zip (10 kB)\n",
      "Building wheels for collected packages: wget\n",
      "  Building wheel for wget (setup.py): started\n",
      "  Building wheel for wget (setup.py): finished with status 'done'\n",
      "  Created wheel for wget: filename=wget-3.2-py3-none-any.whl size=9686 sha256=c534d196e1e9717277368983fcba320ffb93fc29bb665d1ca1d992c15df29ef3\n",
      "  Stored in directory: c:\\users\\dasha\\appdata\\local\\pip\\cache\\wheels\\bd\\a8\\c3\\3cf2c14a1837a4e04bd98631724e81f33f462d86a1d895fae0\n",
      "Successfully built wget\n",
      "Installing collected packages: wget\n",
      "Successfully installed wget-3.2\n",
      "Note: you may need to restart the kernel to use updated packages.\n"
     ]
    }
   ],
   "source": [
    "pip install wget"
   ]
  },
  {
   "cell_type": "code",
   "execution_count": 103,
   "metadata": {
    "id": "RI_eoe063VaP"
   },
   "outputs": [],
   "source": [
    "import torch\n",
    "from torch import nn\n",
    "import pandas as pd\n",
    "import numpy as np\n",
    "import random\n",
    "from tqdm.notebook import tqdm\n",
    "import torch.nn.functional as F\n",
    "import matplotlib.pyplot as plt\n",
    "from sklearn.metrics import mean_squared_error as MSE\n",
    "\n",
    "import sklearn.preprocessing"
   ]
  },
  {
   "cell_type": "code",
   "execution_count": 532,
   "metadata": {},
   "outputs": [],
   "source": [
    "import wget\n",
    "url = 'https://archive.ics.uci.edu/ml/machine-learning-databases/00203/YearPredictionMSD.txt.zip'\n",
    "wget.download(url)"
   ]
  },
  {
   "cell_type": "code",
   "execution_count": 104,
   "metadata": {
    "id": "DSVJZzkJ7zZE"
   },
   "outputs": [
    {
     "data": {
      "text/html": [
       "<div>\n",
       "<style scoped>\n",
       "    .dataframe tbody tr th:only-of-type {\n",
       "        vertical-align: middle;\n",
       "    }\n",
       "\n",
       "    .dataframe tbody tr th {\n",
       "        vertical-align: top;\n",
       "    }\n",
       "\n",
       "    .dataframe thead th {\n",
       "        text-align: right;\n",
       "    }\n",
       "</style>\n",
       "<table border=\"1\" class=\"dataframe\">\n",
       "  <thead>\n",
       "    <tr style=\"text-align: right;\">\n",
       "      <th></th>\n",
       "      <th>0</th>\n",
       "      <th>1</th>\n",
       "      <th>2</th>\n",
       "      <th>3</th>\n",
       "      <th>4</th>\n",
       "      <th>5</th>\n",
       "      <th>6</th>\n",
       "      <th>7</th>\n",
       "      <th>8</th>\n",
       "      <th>9</th>\n",
       "      <th>...</th>\n",
       "      <th>81</th>\n",
       "      <th>82</th>\n",
       "      <th>83</th>\n",
       "      <th>84</th>\n",
       "      <th>85</th>\n",
       "      <th>86</th>\n",
       "      <th>87</th>\n",
       "      <th>88</th>\n",
       "      <th>89</th>\n",
       "      <th>90</th>\n",
       "    </tr>\n",
       "  </thead>\n",
       "  <tbody>\n",
       "    <tr>\n",
       "      <th>0</th>\n",
       "      <td>2001.0</td>\n",
       "      <td>49.94357</td>\n",
       "      <td>21.47114</td>\n",
       "      <td>73.07750</td>\n",
       "      <td>8.74861</td>\n",
       "      <td>-17.40628</td>\n",
       "      <td>-13.09905</td>\n",
       "      <td>-25.01202</td>\n",
       "      <td>-12.23257</td>\n",
       "      <td>7.83089</td>\n",
       "      <td>...</td>\n",
       "      <td>13.01620</td>\n",
       "      <td>-54.40548</td>\n",
       "      <td>58.99367</td>\n",
       "      <td>15.37344</td>\n",
       "      <td>1.11144</td>\n",
       "      <td>-23.08793</td>\n",
       "      <td>68.40795</td>\n",
       "      <td>-1.82223</td>\n",
       "      <td>-27.46348</td>\n",
       "      <td>2.26327</td>\n",
       "    </tr>\n",
       "    <tr>\n",
       "      <th>1</th>\n",
       "      <td>2001.0</td>\n",
       "      <td>48.73215</td>\n",
       "      <td>18.42930</td>\n",
       "      <td>70.32679</td>\n",
       "      <td>12.94636</td>\n",
       "      <td>-10.32437</td>\n",
       "      <td>-24.83777</td>\n",
       "      <td>8.76630</td>\n",
       "      <td>-0.92019</td>\n",
       "      <td>18.76548</td>\n",
       "      <td>...</td>\n",
       "      <td>5.66812</td>\n",
       "      <td>-19.68073</td>\n",
       "      <td>33.04964</td>\n",
       "      <td>42.87836</td>\n",
       "      <td>-9.90378</td>\n",
       "      <td>-32.22788</td>\n",
       "      <td>70.49388</td>\n",
       "      <td>12.04941</td>\n",
       "      <td>58.43453</td>\n",
       "      <td>26.92061</td>\n",
       "    </tr>\n",
       "    <tr>\n",
       "      <th>2</th>\n",
       "      <td>2001.0</td>\n",
       "      <td>50.95714</td>\n",
       "      <td>31.85602</td>\n",
       "      <td>55.81851</td>\n",
       "      <td>13.41693</td>\n",
       "      <td>-6.57898</td>\n",
       "      <td>-18.54940</td>\n",
       "      <td>-3.27872</td>\n",
       "      <td>-2.35035</td>\n",
       "      <td>16.07017</td>\n",
       "      <td>...</td>\n",
       "      <td>3.03800</td>\n",
       "      <td>26.05866</td>\n",
       "      <td>-50.92779</td>\n",
       "      <td>10.93792</td>\n",
       "      <td>-0.07568</td>\n",
       "      <td>43.20130</td>\n",
       "      <td>-115.00698</td>\n",
       "      <td>-0.05859</td>\n",
       "      <td>39.67068</td>\n",
       "      <td>-0.66345</td>\n",
       "    </tr>\n",
       "    <tr>\n",
       "      <th>3</th>\n",
       "      <td>2001.0</td>\n",
       "      <td>48.24750</td>\n",
       "      <td>-1.89837</td>\n",
       "      <td>36.29772</td>\n",
       "      <td>2.58776</td>\n",
       "      <td>0.97170</td>\n",
       "      <td>-26.21683</td>\n",
       "      <td>5.05097</td>\n",
       "      <td>-10.34124</td>\n",
       "      <td>3.55005</td>\n",
       "      <td>...</td>\n",
       "      <td>34.57337</td>\n",
       "      <td>-171.70734</td>\n",
       "      <td>-16.96705</td>\n",
       "      <td>-46.67617</td>\n",
       "      <td>-12.51516</td>\n",
       "      <td>82.58061</td>\n",
       "      <td>-72.08993</td>\n",
       "      <td>9.90558</td>\n",
       "      <td>199.62971</td>\n",
       "      <td>18.85382</td>\n",
       "    </tr>\n",
       "    <tr>\n",
       "      <th>4</th>\n",
       "      <td>2001.0</td>\n",
       "      <td>50.97020</td>\n",
       "      <td>42.20998</td>\n",
       "      <td>67.09964</td>\n",
       "      <td>8.46791</td>\n",
       "      <td>-15.85279</td>\n",
       "      <td>-16.81409</td>\n",
       "      <td>-12.48207</td>\n",
       "      <td>-9.37636</td>\n",
       "      <td>12.63699</td>\n",
       "      <td>...</td>\n",
       "      <td>9.92661</td>\n",
       "      <td>-55.95724</td>\n",
       "      <td>64.92712</td>\n",
       "      <td>-17.72522</td>\n",
       "      <td>-1.49237</td>\n",
       "      <td>-7.50035</td>\n",
       "      <td>51.76631</td>\n",
       "      <td>7.88713</td>\n",
       "      <td>55.66926</td>\n",
       "      <td>28.74903</td>\n",
       "    </tr>\n",
       "  </tbody>\n",
       "</table>\n",
       "<p>5 rows × 91 columns</p>\n",
       "</div>"
      ],
      "text/plain": [
       "       0         1         2         3         4         5         6   \\\n",
       "0  2001.0  49.94357  21.47114  73.07750   8.74861 -17.40628 -13.09905   \n",
       "1  2001.0  48.73215  18.42930  70.32679  12.94636 -10.32437 -24.83777   \n",
       "2  2001.0  50.95714  31.85602  55.81851  13.41693  -6.57898 -18.54940   \n",
       "3  2001.0  48.24750  -1.89837  36.29772   2.58776   0.97170 -26.21683   \n",
       "4  2001.0  50.97020  42.20998  67.09964   8.46791 -15.85279 -16.81409   \n",
       "\n",
       "         7         8         9   ...        81         82        83        84  \\\n",
       "0 -25.01202 -12.23257   7.83089  ...  13.01620  -54.40548  58.99367  15.37344   \n",
       "1   8.76630  -0.92019  18.76548  ...   5.66812  -19.68073  33.04964  42.87836   \n",
       "2  -3.27872  -2.35035  16.07017  ...   3.03800   26.05866 -50.92779  10.93792   \n",
       "3   5.05097 -10.34124   3.55005  ...  34.57337 -171.70734 -16.96705 -46.67617   \n",
       "4 -12.48207  -9.37636  12.63699  ...   9.92661  -55.95724  64.92712 -17.72522   \n",
       "\n",
       "         85        86         87        88         89        90  \n",
       "0   1.11144 -23.08793   68.40795  -1.82223  -27.46348   2.26327  \n",
       "1  -9.90378 -32.22788   70.49388  12.04941   58.43453  26.92061  \n",
       "2  -0.07568  43.20130 -115.00698  -0.05859   39.67068  -0.66345  \n",
       "3 -12.51516  82.58061  -72.08993   9.90558  199.62971  18.85382  \n",
       "4  -1.49237  -7.50035   51.76631   7.88713   55.66926  28.74903  \n",
       "\n",
       "[5 rows x 91 columns]"
      ]
     },
     "execution_count": 104,
     "metadata": {},
     "output_type": "execute_result"
    }
   ],
   "source": [
    "df = pd.read_csv('data.txt.zip', header=None, dtype='float64')\n",
    "df.head()"
   ]
  },
  {
   "cell_type": "code",
   "execution_count": 105,
   "metadata": {
    "id": "n4wnRJT1778j"
   },
   "outputs": [],
   "source": [
    "X = df.iloc[:, 1:].values\n",
    "y = df.iloc[:, 0].values\n",
    "SS=sklearn.preprocessing.StandardScaler() #нормализуем данные с помощью StandartScaler\n",
    "X = SS.fit_transform(X)\n",
    "y = SS.fit_transform(y.reshape(-1,1))\n",
    "\n",
    "val = df.sample(1000)\n",
    "\n",
    "x_val = val.iloc[:, 1:].values\n",
    "y_val = val.iloc[:, 0].values\n",
    "\n",
    "x_val = SS.fit_transform(x_val)\n",
    "y_val = SS.fit_transform(y_val.reshape(-1,1))\n",
    "\n",
    "train_size = 463715\n",
    "X_train = X[:train_size, :]\n",
    "y_train = y[:train_size]\n",
    "X_test = X[train_size:, :]\n",
    "y_test = y[train_size:]"
   ]
  },
  {
   "cell_type": "markdown",
   "metadata": {
    "id": "_386JE_o5gOd"
   },
   "source": [
    "## Задание 0. (0 баллов, но при невыполнении максимум за все задание &mdash; 0 баллов)\n",
    "\n",
    "Мы будем использовать RMSE как метрику качества. Для самого первого бейзлайна обучите `Ridge` регрессию из `sklearn`. Кроме того, посчитайте качество при наилучшем константном прогнозе."
   ]
  },
  {
   "cell_type": "code",
   "execution_count": 106,
   "metadata": {
    "id": "otwuisa56MLr"
   },
   "outputs": [],
   "source": [
    "from sklearn.linear_model import Ridge\n",
    "ridge_model = Ridge()"
   ]
  },
  {
   "cell_type": "code",
   "execution_count": 107,
   "metadata": {},
   "outputs": [],
   "source": [
    "ridge=ridge_model.fit(X_train , y_train)"
   ]
  },
  {
   "cell_type": "code",
   "execution_count": 108,
   "metadata": {},
   "outputs": [],
   "source": [
    "ridge_predict = ridge.predict(X_test)"
   ]
  },
  {
   "cell_type": "code",
   "execution_count": 109,
   "metadata": {},
   "outputs": [
    {
     "data": {
      "text/plain": [
       "9.49743491674954"
      ]
     },
     "execution_count": 109,
     "metadata": {},
     "output_type": "execute_result"
    }
   ],
   "source": [
    "MSE(SS.inverse_transform(ridge_predict), SS.inverse_transform(y_test), squared=False)"
   ]
  },
  {
   "cell_type": "markdown",
   "metadata": {},
   "source": [
    "Лучшей константной моделью для данной задачи будет прогноз, взятый как среднее всех значений"
   ]
  },
  {
   "cell_type": "code",
   "execution_count": 110,
   "metadata": {},
   "outputs": [],
   "source": [
    "const = y_train.mean()"
   ]
  },
  {
   "cell_type": "code",
   "execution_count": 111,
   "metadata": {},
   "outputs": [],
   "source": [
    "y_const_predict = np.full(len(y_test), const)"
   ]
  },
  {
   "cell_type": "code",
   "execution_count": 112,
   "metadata": {},
   "outputs": [
    {
     "data": {
      "text/plain": [
       "10.837941817414041"
      ]
     },
     "execution_count": 112,
     "metadata": {},
     "output_type": "execute_result"
    }
   ],
   "source": [
    "MSE(SS.inverse_transform(y_const_predict), SS.inverse_transform(y_test), squared=False)"
   ]
  },
  {
   "cell_type": "markdown",
   "metadata": {},
   "source": [
    "Как видим, хоть и ненамного, но меньшую ошибку дает Ridge-регрессия. Далее с помощью полносвязной нейронной сети будем получать лучшее качество."
   ]
  },
  {
   "cell_type": "markdown",
   "metadata": {
    "id": "_6ilBKYt6OdD"
   },
   "source": [
    "## Задание 1. (максимум 10 баллов)\n",
    "\n",
    "Реализуйте обучение и тестирование нейронной сети для предоставленного вам набора данных. Соотношение между полученным значением метрики на тестовой выборке и баллами за задание следующее:\n",
    "\n",
    "- $\\text{RMSE} \\le 9.00 $ &mdash; 4 балла\n",
    "- $\\text{RMSE} \\le 8.90 $ &mdash; 6 баллов\n",
    "- $\\text{RMSE} \\le 8.80 $ &mdash; 8 баллов\n",
    "- $\\text{RMSE} \\le 8.75 $ &mdash; 10 баллов\n",
    "\n",
    "Есть несколько правил, которых вам нужно придерживаться:\n",
    "\n",
    "- Весь пайплайн обучения должен быть написан на PyTorch. При этом вы можете пользоваться другими библиотеками (`numpy`, `sklearn` и пр.), но только для обработки данных. То есть как угодно трансформировать данные и считать метрики с помощью этих библиотек можно, а импортировать модели из `sklearn` и выбивать с их помощью требуемое качество &mdash; нельзя. Также нельзя пользоваться библиотеками, для которых сам PyTorch является зависимостью.\n",
    "\n",
    "- Мы никак не ограничиваем ваш выбор архитектуры модели, но скорее всего вам будет достаточно полносвязной нейронной сети.\n",
    "\n",
    "- Для обучения запрещается использовать какие-либо иные данные, кроме обучающей выборки.\n",
    "\n",
    "- Ансамблирование моделей запрещено.\n",
    "\n",
    "### Полезные советы:\n",
    "\n",
    "- Очень вряд ли, что у вас с первого раза получится выбить качество на 10 баллов, поэтому пробуйте разные архитектуры, оптимизаторы и значения гиперпараметров. В идеале при запуске каждого нового эксперимента вы должны менять что-то одно, чтобы точно знать, как этот фактор влияет на качество.\n",
    "\n",
    "- Тот факт, что мы занимаемся глубинным обучением, не означает, что стоит забывать про приемы, использующиеся в классическом машинном обучении. Так что обязательно проводите исследовательский анализ данных, отрисовывайте нужные графики и не забывайте про масштабирование и подбор гиперпараметров.\n",
    "\n",
    "- Вы наверняка столкнетесь с тем, что ваша нейронная сеть будет сильно переобучаться. Для нейросетей существуют специальные методы регуляризации, например, dropout ([статья](https://jmlr.org/papers/volume15/srivastava14a/srivastava14a.pdf)) и weight decay ([блогпост](https://towardsdatascience.com/weight-decay-l2-regularization-90a9e17713cd)). Они, разумеется, реализованы в PyTorch. Попробуйте поэкспериментировать с ними.\n",
    "\n",
    "- Если вы чего-то не знаете, не гнушайтесь гуглить. В интернете очень много полезной информации, туториалов и советов по глубинному обучению в целом и по PyTorch в частности. Но не забывайте, что за скатанный код без ссылки на источник придется ответить по всей строгости!\n",
    "\n",
    "- Если вы сразу реализуете обучение на GPU, то у вас будет больше времени на эксперименты, так как любые вычисления будут работать быстрее. Google Colab предоставляет несколько GPU-часов (обычно около 8-10) в сутки бесплатно.\n",
    "\n",
    "- Чтобы отладить код, можете обучаться на небольшой части данных или даже на одном батче. Если лосс на обучающей выборке не падает, то что-то точно идет не так!\n",
    "\n",
    "- Пользуйтесь утилитами, которые вам предоставляет PyTorch (например, Dataset и Dataloader). Их специально разработали для упрощения разработки пайплайна обучения.\n",
    "\n",
    "- Скорее всего вы захотите отслеживать прогресс обучения. Для создания прогресс-баров есть удобная библиотека `tqdm`.\n",
    "\n",
    "- Быть может, вы захотите, чтобы графики рисовались прямо во время обучения. Можете воспользоваться функцией [clear_output](http://ipython.org/ipython-doc/dev/api/generated/IPython.display.html#IPython.display.clear_output), чтобы удалять старый график и рисовать новый на его месте.\n",
    "\n",
    "**ОБЯЗАТЕЛЬНО** рисуйте графики зависимости лосса/метрики на обучающей и тестовой выборках в зависимости от времени обучения. Если обучение занимает относительно небольшое число эпох, то лучше рисовать зависимость от номера шага обучения, если же эпох больше, то рисуйте зависимость по эпохам. Если проверяющий не увидит такого графика для вашей лучшей модели, то он в праве снизить баллы за задание.\n",
    "\n",
    "**ВАЖНО!** Ваше решение должно быть воспроизводимым. Если это не так, то проверяющий имеет право снизить баллы за задание. Чтобы зафиксировать random seed, воспользуйтесь функцией из ячейки ниже.\n",
    "\n"
   ]
  },
  {
   "cell_type": "code",
   "execution_count": 113,
   "metadata": {
    "id": "VaMButDmEKKw"
   },
   "outputs": [],
   "source": [
    "def set_random_seed(seed):\n",
    "    torch.backends.cudnn.deterministic = True\n",
    "    torch.manual_seed(seed)\n",
    "    torch.cuda.manual_seed(seed)\n",
    "    np.random.seed(seed)\n",
    "    random.seed(seed)"
   ]
  },
  {
   "cell_type": "code",
   "execution_count": 114,
   "metadata": {},
   "outputs": [],
   "source": [
    "class RegressionDataset(torch.utils.data.Dataset): #класс для создания train_ test_ set\n",
    "    def __init__(self, x, y):\n",
    "        self.x = x\n",
    "        self.y = y\n",
    "        \n",
    "    def __len__(self):\n",
    "        return len(self.x)\n",
    "    \n",
    "    def __getitem__(self, idx):\n",
    "        return {\"sample\": self.x[idx, :], \"target\": self.y[idx]}"
   ]
  },
  {
   "cell_type": "code",
   "execution_count": 115,
   "metadata": {},
   "outputs": [],
   "source": [
    "def test(model, criterion, test_loader):\n",
    "    '''\n",
    "    params:\n",
    "        model - torch.nn.Module to be evaluated on test set\n",
    "        criterion - loss function from torch.nn\n",
    "        test_loader - torch.utils.data.Dataloader with test set\n",
    "    ----------\n",
    "    returns:\n",
    "        predicts - torch.tensor with shape (len(test_loader.dataset), ),\n",
    "                   which contains predictions for test objects\n",
    "    '''\n",
    "    predicts = []\n",
    "    with torch.no_grad(): #считаем качество, потому без градиентов\n",
    "        model.eval()\n",
    "        for test_batch in test_loader:\n",
    "            batch_x = test_batch['sample']\n",
    "            batch_y = test_batch['target'].reshape(len(test_batch['target']), 1) \n",
    "            y_pred = model(batch_x)                # делаем предсказания        \n",
    "            y_pred=y_pred.clone().detach()  \n",
    "            predicts.append(y_pred)\n",
    "    predictions = torch.cat(predicts)\n",
    "    return predictions"
   ]
  },
  {
   "cell_type": "code",
   "execution_count": 117,
   "metadata": {},
   "outputs": [],
   "source": [
    "def train(model, optimizer, criterion, train_loader, test_loader, val_loader, N): #прототип взят с первого семинара и адаптирован под задачу\n",
    "    \"\"\"\n",
    "    params:\n",
    "        model - torch.nn.Module to be fitted\n",
    "        optimizer - model optimizer\n",
    "        criterion - loss function from torch.nn\n",
    "        train_loader - torch.utils.data.Dataloader with train set\n",
    "        test_loader - torch.utils.data.Dataloader with test set\n",
    "                      (if you wish to validate during training)\n",
    "        train_loader - torch.utils.data.Dataloader with val_set (from train set get 1000 elements)\n",
    "        N - number of epoches\n",
    "    \"\"\"\n",
    "    test_losses=[]\n",
    "    val_losses=[]\n",
    "    for epoch in tqdm(range(1, N+1)):\n",
    "        print(\"epoch =\", epoch)\n",
    "        train_loss_list=[]\n",
    "        \n",
    "        model.train()\n",
    "        for batch in train_loader:    # берем батч из трейн лоадера\n",
    "            batch['target'] = batch['target'].reshape(len(batch['target']), 1)\n",
    "        \n",
    "            y_pred = model(batch['sample'])                # делаем предсказания\n",
    "            loss = criterion(batch['target'], y_pred) \n",
    "               \n",
    "            loss.backward()                                # считаем градиенты обратным проходом\n",
    "            optimizer.step()                               # обновляем параметры сети            \n",
    "            optimizer.zero_grad()                          # обнуляем посчитанные градиенты параметров\n",
    "            \n",
    "        val_losses.append(MSE(SS.inverse_transform(np.array(test(model, criterion, val_loader))), SS.inverse_transform(y_val), squared=False))\n",
    "        #считаем ошибку на тренировочном датасете\n",
    "        test_losses.append(MSE(SS.inverse_transform(np.array(test(model, criterion, test_loader))), SS.inverse_transform(y_test), squared=False))\n",
    "        #считаем ошибку на тестовом датасете\n",
    "        print(\"Train loss:\", val_losses[-1]) #выводим ошибки\n",
    "        print(\"Test loss:\", test_losses[-1])\n",
    "        if test_losses[-1] <8.75: break\n",
    "    #Строим график зависимости лосса от эпохи\n",
    "    plt.figure()\n",
    "    x = np.linspace(1, N+1)\n",
    "    plt.plot(test_losses, color=\"magenta\")\n",
    "    plt.plot(val_losses)\n",
    "    plt.grid() \n",
    "    plt.legend([\"Test_loss\", \"Train_loss\"])\n",
    "    plt.title(\"График зависимости лосса от времени(эпохи)\")\n",
    "    plt.xlabel(\"Эпоха\")\n",
    "    plt.ylabel(\"Лосс\")\n",
    "    plt.show()"
   ]
  },
  {
   "cell_type": "markdown",
   "metadata": {},
   "source": [
    "Таким образом, получили модель, которая плавно сходится к ошибке в 8.5 на тестовой выборке."
   ]
  },
  {
   "cell_type": "markdown",
   "metadata": {},
   "source": [
    "Добавим еще один batchNorm и чуть увеличим шаг сходимости и число эпох"
   ]
  },
  {
   "cell_type": "code",
   "execution_count": 118,
   "metadata": {},
   "outputs": [],
   "source": [
    "class ConvNet3(nn.Module): #создаем класс, унаследованный от nn.Module\n",
    "    def __init__(self):\n",
    "        super(ConvNet3, self).__init__()\n",
    "        self.fc1 = nn.Linear(90, 64)\n",
    "        self.bnm1 = nn.BatchNorm1d(64)            \n",
    "        self.fc2 = nn.Linear(64, 26)\n",
    "        self.bnm2 = nn.BatchNorm1d(26)\n",
    "        self.fc3 = nn.Linear(26, 1)             \n",
    "          \n",
    "    def forward(self, x):                        # задаётся прямой проход\n",
    "        x = self.fc1(x)                          # выход первого слоя\n",
    "        x = self.bnm1(x)\n",
    "        x = nn.ReLU()(x)                         # пропускаем через relu\n",
    "        \n",
    "        x = self.fc2(x)                          # выход второго слоя\n",
    "        x = self.bnm2(x)\n",
    "        x = nn.ReLU()(x)                         # пропускаем через relu\n",
    "        \n",
    "        x = self.fc3(x)                          # выход третьего слоя\n",
    "\n",
    "        return x"
   ]
  },
  {
   "cell_type": "code",
   "execution_count": 120,
   "metadata": {},
   "outputs": [
    {
     "data": {
      "application/vnd.jupyter.widget-view+json": {
       "model_id": "482c8f9ee27049129a174e73bacab45e",
       "version_major": 2,
       "version_minor": 0
      },
      "text/plain": [
       "HBox(children=(HTML(value=''), FloatProgress(value=0.0, max=25.0), HTML(value='')))"
      ]
     },
     "metadata": {},
     "output_type": "display_data"
    },
    {
     "name": "stdout",
     "output_type": "stream",
     "text": [
      "epoch = 1\n",
      "Train loss: 8.99680094699802\n",
      "Test loss: 8.936809699051917\n",
      "epoch = 2\n",
      "Train loss: 8.804189784442407\n",
      "Test loss: 8.856933044350372\n",
      "epoch = 3\n",
      "Train loss: 8.777428901763534\n",
      "Test loss: 8.835628977654052\n",
      "epoch = 4\n",
      "Train loss: 8.79830928235362\n",
      "Test loss: 8.80661728106289\n",
      "epoch = 5\n",
      "Train loss: 8.770218210751604\n",
      "Test loss: 8.7851841236158\n",
      "epoch = 6\n",
      "Train loss: 8.794464378428014\n",
      "Test loss: 8.793310383855081\n",
      "epoch = 7\n",
      "Train loss: 8.753241453050688\n",
      "Test loss: 8.811596420352979\n",
      "epoch = 8\n",
      "Train loss: 8.715881765658649\n",
      "Test loss: 8.789398163118728\n",
      "epoch = 9\n",
      "Train loss: 8.740823351750178\n",
      "Test loss: 8.779174271751332\n",
      "epoch = 10\n",
      "Train loss: 8.630363597354465\n",
      "Test loss: 8.791801236021705\n",
      "epoch = 11\n",
      "Train loss: 8.590128533164604\n",
      "Test loss: 8.782076999415082\n",
      "epoch = 12\n",
      "Train loss: 8.614162585445797\n",
      "Test loss: 8.768955625617737\n",
      "epoch = 13\n",
      "Train loss: 8.568778254197538\n",
      "Test loss: 8.780344353564304\n",
      "epoch = 14\n",
      "Train loss: 8.58407345467393\n",
      "Test loss: 8.811383661948136\n",
      "epoch = 15\n",
      "Train loss: 8.542532417877705\n",
      "Test loss: 8.790944798151344\n",
      "epoch = 16\n",
      "Train loss: 8.549002285820684\n",
      "Test loss: 8.765276425606052\n",
      "epoch = 17\n",
      "Train loss: 8.519450787685072\n",
      "Test loss: 8.77649898796591\n",
      "epoch = 18\n",
      "Train loss: 8.485318535871196\n",
      "Test loss: 8.802664779321189\n",
      "epoch = 19\n",
      "Train loss: 8.489642095616741\n",
      "Test loss: 8.789722156123693\n",
      "epoch = 20\n",
      "Train loss: 8.51719194337585\n",
      "Test loss: 8.764060375030846\n",
      "epoch = 21\n",
      "Train loss: 8.484545963985044\n",
      "Test loss: 8.796130864112731\n",
      "epoch = 22\n",
      "Train loss: 8.420157985816266\n",
      "Test loss: 8.774003134909695\n",
      "epoch = 23\n",
      "Train loss: 8.522638413477647\n",
      "Test loss: 8.809155125922814\n",
      "epoch = 24\n",
      "Train loss: 8.373605911211316\n",
      "Test loss: 8.79544393908883\n",
      "epoch = 25\n",
      "Train loss: 8.383372845582773\n",
      "Test loss: 8.780037553422428\n",
      "\n"
     ]
    },
    {
     "data": {
      "image/png": "[encoded data removed]",
      "text/plain": [
       "<Figure size 432x288 with 1 Axes>"
      ]
     },
     "metadata": {
      "needs_background": "light"
     },
     "output_type": "display_data"
    }
   ],
   "source": [
    "set_random_seed(1)\n",
    "#строим итоговую модель на всем тренировочном датасете\n",
    "train_set = RegressionDataset(torch.FloatTensor(X_train), torch.FloatTensor(y_train))\n",
    "test_set = RegressionDataset(torch.FloatTensor(X_test), torch.FloatTensor(y_test))\n",
    "val_set = RegressionDataset(torch.FloatTensor(x_val), torch.FloatTensor(y_val))\n",
    "\n",
    "val_dataloader = torch.utils.data.DataLoader(val_set, batch_size=64, shuffle=False)\n",
    "train_dataloader = torch.utils.data.DataLoader(train_set, batch_size=64, shuffle=True)\n",
    "test_dataloader = torch.utils.data.DataLoader(test_set, batch_size=64, shuffle=False)\n",
    "\n",
    "model = ConvNet3()\n",
    "criterion = nn.MSELoss()\n",
    "\n",
    "optimizer = torch.optim.Adam(model.parameters(), lr=0.00018) #оптимизатор\n",
    "\n",
    "train(model, optimizer, criterion, train_dataloader, test_dataloader,val_dataloader,  25)"
   ]
  },
  {
   "cell_type": "markdown",
   "metadata": {},
   "source": [
    "Ошибки в <8.75 достигнуть не удалось, однако значение <8.77 достигалось пару раз: в эпохах 12, 16."
   ]
  },
  {
   "cell_type": "markdown",
   "metadata": {
    "id": "bine9EES6TIn"
   },
   "source": [
    "## Задание 2. (0 баллов, но при невыполнении максимум за все задание &mdash; 0 баллов)\n",
    "\n",
    "Напишите небольшой отчет о том, как вы добились полученного качества: какие средства использовали и какие эксперименты проводили. Подробно расскажите об архитектурах и значениях гиперпараметров, а также какие метрики на тесте они показывали. Чтобы отчет был зачтен, необходимо привести хотя бы 3 эксперимента.\n",
    "______"
   ]
  },
  {
   "cell_type": "markdown",
   "metadata": {},
   "source": [
    "В работе использована трехслойная нейронная сеть, после каждого слоя применяется ReLU-функция в качестве функции активации для того, чтобы градиент не затухал, и после первых двух слоев - batchnorm. Сама модель приведена выше.\n",
    "Гиперпараметры: шаг оптимизатора lr (чем больше - тем проще \"проскочить\" момент, когда модель обучилась \"хорошо\", и получить переобучение),\n",
    "количество эпох N (чем больше эпох, тем дольше модель обучается), размер батчей batch_size."
   ]
  },
  {
   "cell_type": "markdown",
   "metadata": {},
   "source": [
    "Первой моделью, которуя я построила, была двухслойная нейронная сеть с одной функцией активации ReLU. Однако даже ошибки в 8.90 получить с ней не удалось - модель нуждалась в лучшем обучении"
   ]
  },
  {
   "cell_type": "code",
   "execution_count": 121,
   "metadata": {},
   "outputs": [],
   "source": [
    "class ConvNet0(nn.Module): #создаем класс, унаследованный от nn.Module\n",
    "    def __init__(self):\n",
    "        super(ConvNet0, self).__init__()\n",
    "        self.fc1 = nn.Linear(90, 64)            \n",
    "        self.fc2 = nn.Linear(64, 1)        \n",
    "          \n",
    "    def forward(self, x):                        # задаётся прямой проход\n",
    "        x = self.fc1(x)                          # выход первого слоя\n",
    "        x = nn.ReLU()(x)                         # пропускаем через relu\n",
    "        x = self.fc2(x)                          # выход второго слоя\n",
    "\n",
    "        return x"
   ]
  },
  {
   "cell_type": "markdown",
   "metadata": {},
   "source": [
    "Размер батчей использован везде =64 и шаг в 0.0001. При таких гиперпараметрах модель не \"проскакивает\" момент стабилизации ошибки, поэтому я смогла сосредоточиться на исследовании самой нейросети."
   ]
  },
  {
   "cell_type": "code",
   "execution_count": 123,
   "metadata": {},
   "outputs": [
    {
     "data": {
      "application/vnd.jupyter.widget-view+json": {
       "model_id": "25b39aba0c0b4642a16dedbf791ca64e",
       "version_major": 2,
       "version_minor": 0
      },
      "text/plain": [
       "HBox(children=(HTML(value=''), FloatProgress(value=0.0, max=20.0), HTML(value='')))"
      ]
     },
     "metadata": {},
     "output_type": "display_data"
    },
    {
     "name": "stdout",
     "output_type": "stream",
     "text": [
      "epoch = 1\n",
      "Train loss: 9.18640655657499\n",
      "Test loss: 9.124923165719043\n",
      "epoch = 2\n",
      "Train loss: 9.093454537955791\n",
      "Test loss: 9.0629167460196\n",
      "epoch = 3\n",
      "Train loss: 9.057513776281596\n",
      "Test loss: 9.024415103366753\n",
      "epoch = 4\n",
      "Train loss: 8.996085245920188\n",
      "Test loss: 9.007650823344756\n",
      "epoch = 5\n",
      "Train loss: 8.97846799953676\n",
      "Test loss: 8.992724363707307\n",
      "epoch = 6\n",
      "Train loss: 8.934815061387669\n",
      "Test loss: 8.986424223678863\n",
      "epoch = 7\n",
      "Train loss: 8.916657985410724\n",
      "Test loss: 8.98081130035359\n",
      "epoch = 8\n",
      "Train loss: 8.896188275304121\n",
      "Test loss: 8.97376168220152\n",
      "epoch = 9\n",
      "Train loss: 8.911955716925448\n",
      "Test loss: 8.954428246605024\n",
      "epoch = 10\n",
      "Train loss: 8.833709410423635\n",
      "Test loss: 8.963521267038919\n",
      "epoch = 11\n",
      "Train loss: 8.819979767626485\n",
      "Test loss: 8.95825656885898\n",
      "epoch = 12\n",
      "Train loss: 8.827110950587459\n",
      "Test loss: 8.944601404238153\n",
      "epoch = 13\n",
      "Train loss: 8.807009077847916\n",
      "Test loss: 8.939689777063531\n",
      "epoch = 14\n",
      "Train loss: 8.806646641447271\n",
      "Test loss: 8.935957331939553\n",
      "epoch = 15\n",
      "Train loss: 8.80504729351127\n",
      "Test loss: 8.930555222873544\n",
      "epoch = 16\n",
      "Train loss: 8.769293891653689\n",
      "Test loss: 8.932401247234964\n",
      "epoch = 17\n",
      "Train loss: 8.779239257250872\n",
      "Test loss: 8.920128192777705\n",
      "epoch = 18\n",
      "Train loss: 8.780306488955837\n",
      "Test loss: 8.927596848676654\n",
      "epoch = 19\n",
      "Train loss: 8.72379189586961\n",
      "Test loss: 8.904995150305897\n",
      "epoch = 20\n",
      "Train loss: 8.735565422490284\n",
      "Test loss: 8.910528176713667\n",
      "\n"
     ]
    },
    {
     "data": {
      "image/png": "[encoded data removed]",
      "text/plain": [
       "<Figure size 432x288 with 1 Axes>"
      ]
     },
     "metadata": {
      "needs_background": "light"
     },
     "output_type": "display_data"
    }
   ],
   "source": [
    "train_set = RegressionDataset(torch.FloatTensor(X_train), torch.FloatTensor(y_train))\n",
    "val_set = RegressionDataset(torch.FloatTensor(x_val), torch.FloatTensor(y_val))\n",
    "test_set = RegressionDataset(torch.FloatTensor(X_test), torch.FloatTensor(y_test))\n",
    "set_random_seed(1)\n",
    "train_dataloader = torch.utils.data.DataLoader(train_set, batch_size=64, shuffle=True)\n",
    "val_dataloader = torch.utils.data.DataLoader(val_set, batch_size=64, shuffle=False)\n",
    "test_dataloader = torch.utils.data.DataLoader(test_set, batch_size=64, shuffle=False)\n",
    "\n",
    "model = ConvNet0()\n",
    "criterion = nn.MSELoss()\n",
    "optimizer = torch.optim.Adam(model.parameters(), lr=0.0001) #оптимизатор\n",
    "\n",
    "set_random_seed(1)\n",
    "train(model, optimizer, criterion, train_dataloader, test_dataloader, val_dataloader, 20)"
   ]
  },
  {
   "cell_type": "markdown",
   "metadata": {},
   "source": [
    "Далее был добавлен третий полносвязный слой и функция активации для избежания затухания градиента. Качество улучшилось, но недостаточно."
   ]
  },
  {
   "cell_type": "code",
   "execution_count": 124,
   "metadata": {},
   "outputs": [],
   "source": [
    "class ConvNet1(nn.Module): #создаем класс, унаследованный от nn.Module\n",
    "    def __init__(self):\n",
    "        super(ConvNet1, self).__init__()\n",
    "        self.fc1 = nn.Linear(90, 64)            \n",
    "        self.fc2 = nn.Linear(64, 26)             \n",
    "        self.fc3 = nn.Linear(26, 1)             \n",
    "          \n",
    "    def forward(self, x):                        # задаётся прямой проход\n",
    "        x = self.fc1(x)                          # выход первого слоя\n",
    "        x = nn.ReLU()(x)                         # пропускаем через relu\n",
    "        x = self.fc2(x)                          # выход второго слоя\n",
    "        x = nn.ReLU()(x)                         # пропускаем через relu\n",
    "        x = self.fc3(x)                          # выход третьего слоя\n",
    "\n",
    "        return x"
   ]
  },
  {
   "cell_type": "code",
   "execution_count": 125,
   "metadata": {},
   "outputs": [
    {
     "data": {
      "application/vnd.jupyter.widget-view+json": {
       "model_id": "13eced3d55c94696866ea0d07ff069c1",
       "version_major": 2,
       "version_minor": 0
      },
      "text/plain": [
       "HBox(children=(HTML(value=''), FloatProgress(value=0.0, max=18.0), HTML(value='')))"
      ]
     },
     "metadata": {},
     "output_type": "display_data"
    },
    {
     "name": "stdout",
     "output_type": "stream",
     "text": [
      "epoch = 1\n",
      "Train loss: 9.094762461715655\n",
      "Test loss: 9.023576986790944\n",
      "epoch = 2\n",
      "Train loss: 8.880988602991895\n",
      "Test loss: 8.929928045212636\n",
      "epoch = 3\n",
      "Train loss: 8.800257226856678\n",
      "Test loss: 8.892681262393447\n",
      "epoch = 4\n",
      "Train loss: 8.756255777084478\n",
      "Test loss: 8.863732848232015\n",
      "epoch = 5\n",
      "Train loss: 8.742119629033974\n",
      "Test loss: 8.842425947603418\n",
      "epoch = 6\n",
      "Train loss: 8.709081155242227\n",
      "Test loss: 8.836385867045164\n",
      "epoch = 7\n",
      "Train loss: 8.72053165175024\n",
      "Test loss: 8.829775044153841\n",
      "epoch = 8\n",
      "Train loss: 8.683709461721357\n",
      "Test loss: 8.827095828615246\n",
      "epoch = 9\n",
      "Train loss: 8.719771368156206\n",
      "Test loss: 8.820455132028904\n",
      "epoch = 10\n",
      "Train loss: 8.60611013430239\n",
      "Test loss: 8.840349619263145\n",
      "epoch = 11\n",
      "Train loss: 8.599267897256208\n",
      "Test loss: 8.828993421108414\n",
      "epoch = 12\n",
      "Train loss: 8.634843151362306\n",
      "Test loss: 8.825547745250061\n",
      "epoch = 13\n",
      "Train loss: 8.63172311168379\n",
      "Test loss: 8.817171166487112\n",
      "epoch = 14\n",
      "Train loss: 8.569941333086364\n",
      "Test loss: 8.858857938794168\n",
      "epoch = 15\n",
      "Train loss: 8.572461402208875\n",
      "Test loss: 8.845066272602295\n",
      "epoch = 16\n",
      "Train loss: 8.5788771207593\n",
      "Test loss: 8.816824424957337\n",
      "epoch = 17\n",
      "Train loss: 8.564715221788653\n",
      "Test loss: 8.82508241522149\n",
      "epoch = 18\n",
      "Train loss: 8.528423043600602\n",
      "Test loss: 8.837090270731725\n",
      "\n"
     ]
    },
    {
     "data": {
      "image/png": "[encoded data removed]",
      "text/plain": [
       "<Figure size 432x288 with 1 Axes>"
      ]
     },
     "metadata": {
      "needs_background": "light"
     },
     "output_type": "display_data"
    }
   ],
   "source": [
    "set_random_seed(1)\n",
    "#строим модель на всем тренировочном датасете\n",
    "train_set = RegressionDataset(torch.FloatTensor(X_train), torch.FloatTensor(y_train))\n",
    "test_set = RegressionDataset(torch.FloatTensor(X_test), torch.FloatTensor(y_test))\n",
    "val_set = RegressionDataset(torch.FloatTensor(x_val), torch.FloatTensor(y_val))\n",
    "\n",
    "val_dataloader = torch.utils.data.DataLoader(val_set, batch_size=64, shuffle=False)\n",
    "train_dataloader = torch.utils.data.DataLoader(train_set, batch_size=64, shuffle=True)\n",
    "test_dataloader = torch.utils.data.DataLoader(test_set, batch_size=64, shuffle=False)\n",
    "\n",
    "model = ConvNet1()\n",
    "criterion = nn.MSELoss()\n",
    "\n",
    "optimizer = torch.optim.Adam(model.parameters(), lr=0.0001) #оптимизатор\n",
    "\n",
    "train(model, optimizer, criterion, train_dataloader, test_dataloader,val_dataloader,  18)"
   ]
  },
  {
   "cell_type": "markdown",
   "metadata": {},
   "source": [
    "И затем я стала добавлять batchnorm. Сначала добавила один и качество улучшилось, затем (уже в части 1) второй batchnorm и получила необходимое качество."
   ]
  },
  {
   "cell_type": "code",
   "execution_count": 126,
   "metadata": {},
   "outputs": [],
   "source": [
    "class ConvNet2(nn.Module): #создаем класс, унаследованный от nn.Module\n",
    "    def __init__(self):\n",
    "        super(ConvNet2, self).__init__()\n",
    "        self.fc1 = nn.Linear(90, 64)            \n",
    "        self.fc2 = nn.Linear(64, 26)\n",
    "        self.bnm2 = nn.BatchNorm1d(26)\n",
    "        self.fc3 = nn.Linear(26, 1)             \n",
    "          \n",
    "    def forward(self, x):                        # задаётся прямой проход\n",
    "        x = self.fc1(x)                          # выход первого слоя\n",
    "        x = nn.ReLU()(x)                         # пропускаем через relu\n",
    "        x = self.fc2(x)                          # выход второго слоя\n",
    "        x = self.bnm2(x)\n",
    "\n",
    "        x = nn.ReLU()(x)                         # пропускаем через relu\n",
    "        x = self.fc3(x)                          # выход третьего слоя\n",
    "\n",
    "        return x"
   ]
  },
  {
   "cell_type": "code",
   "execution_count": 127,
   "metadata": {},
   "outputs": [
    {
     "data": {
      "application/vnd.jupyter.widget-view+json": {
       "model_id": "91ba10608cc6405990354df8c8e2be7f",
       "version_major": 2,
       "version_minor": 0
      },
      "text/plain": [
       "HBox(children=(HTML(value=''), FloatProgress(value=0.0, max=18.0), HTML(value='')))"
      ]
     },
     "metadata": {},
     "output_type": "display_data"
    },
    {
     "name": "stdout",
     "output_type": "stream",
     "text": [
      "epoch = 1\n",
      "Train loss: 9.060034189171741\n",
      "Test loss: 9.015047191333515\n",
      "epoch = 2\n",
      "Train loss: 8.837480941675024\n",
      "Test loss: 8.909563137910219\n",
      "epoch = 3\n",
      "Train loss: 8.805117242082371\n",
      "Test loss: 8.87136358519265\n",
      "epoch = 4\n",
      "Train loss: 8.798821112971417\n",
      "Test loss: 8.84995538447884\n",
      "epoch = 5\n",
      "Train loss: 8.805567046783546\n",
      "Test loss: 8.833165674524702\n",
      "epoch = 6\n",
      "Train loss: 8.774175785210172\n",
      "Test loss: 8.82367746801032\n",
      "epoch = 7\n",
      "Train loss: 8.768560032252484\n",
      "Test loss: 8.834760742771028\n",
      "epoch = 8\n",
      "Train loss: 8.754060735858598\n",
      "Test loss: 8.815605521063008\n",
      "epoch = 9\n",
      "Train loss: 8.73411810859096\n",
      "Test loss: 8.797534764407265\n",
      "epoch = 10\n",
      "Train loss: 8.656267632449262\n",
      "Test loss: 8.814855043050947\n",
      "epoch = 11\n",
      "Train loss: 8.633828919931297\n",
      "Test loss: 8.811757907242098\n",
      "epoch = 12\n",
      "Train loss: 8.710017343983663\n",
      "Test loss: 8.801930300502812\n",
      "epoch = 13\n",
      "Train loss: 8.679437702311562\n",
      "Test loss: 8.793405095217523\n",
      "epoch = 14\n",
      "Train loss: 8.626337782506333\n",
      "Test loss: 8.808319047601344\n",
      "epoch = 15\n",
      "Train loss: 8.618805866350852\n",
      "Test loss: 8.802220942033115\n",
      "epoch = 16\n",
      "Train loss: 8.631479392439857\n",
      "Test loss: 8.787213041478946\n",
      "epoch = 17\n",
      "Train loss: 8.61891602055009\n",
      "Test loss: 8.794342305447264\n",
      "epoch = 18\n",
      "Train loss: 8.549272297502643\n",
      "Test loss: 8.8091413766661\n",
      "\n"
     ]
    },
    {
     "data": {
      "image/png": "[encoded data removed]",
      "text/plain": [
       "<Figure size 432x288 with 1 Axes>"
      ]
     },
     "metadata": {
      "needs_background": "light"
     },
     "output_type": "display_data"
    }
   ],
   "source": [
    "set_random_seed(1)\n",
    "#строим модель на всем тренировочном датасете\n",
    "train_set = RegressionDataset(torch.FloatTensor(X_train), torch.FloatTensor(y_train))\n",
    "test_set = RegressionDataset(torch.FloatTensor(X_test), torch.FloatTensor(y_test))\n",
    "val_set = RegressionDataset(torch.FloatTensor(x_val), torch.FloatTensor(y_val))\n",
    "\n",
    "val_dataloader = torch.utils.data.DataLoader(val_set, batch_size=64, shuffle=False)\n",
    "train_dataloader = torch.utils.data.DataLoader(train_set, batch_size=64, shuffle=True)\n",
    "test_dataloader = torch.utils.data.DataLoader(test_set, batch_size=64, shuffle=False)\n",
    "\n",
    "model = ConvNet2()\n",
    "criterion = nn.MSELoss()\n",
    "\n",
    "optimizer = torch.optim.Adam(model.parameters(), lr=0.0001) #оптимизатор\n",
    "\n",
    "train(model, optimizer, criterion, train_dataloader, test_dataloader,val_dataloader,  18)"
   ]
  },
  {
   "cell_type": "markdown",
   "metadata": {},
   "source": [
    "Дополнительный эксперимент, чтобы оценить влияние изменения размера батчей на результаты."
   ]
  },
  {
   "cell_type": "markdown",
   "metadata": {},
   "source": [
    "Попробуем поменять размер батчей и посмотрим, как это отразится на результатах:"
   ]
  },
  {
   "cell_type": "code",
   "execution_count": 130,
   "metadata": {},
   "outputs": [
    {
     "data": {
      "application/vnd.jupyter.widget-view+json": {
       "model_id": "bb07f7b794f2485e8ec36a0ec08a2902",
       "version_major": 2,
       "version_minor": 0
      },
      "text/plain": [
       "HBox(children=(HTML(value=''), FloatProgress(value=0.0, max=20.0), HTML(value='')))"
      ]
     },
     "metadata": {},
     "output_type": "display_data"
    },
    {
     "name": "stdout",
     "output_type": "stream",
     "text": [
      "epoch = 1\n",
      "Train loss: 9.313136146482387\n",
      "Test loss: 9.23925851859637\n",
      "epoch = 2\n",
      "Train loss: 9.19311948338128\n",
      "Test loss: 9.12433499057773\n",
      "epoch = 3\n",
      "Train loss: 9.128923555374882\n",
      "Test loss: 9.074816037390022\n",
      "epoch = 4\n",
      "Train loss: 9.081311224120162\n",
      "Test loss: 9.049311403391041\n",
      "epoch = 5\n",
      "Train loss: 9.05590526406282\n",
      "Test loss: 9.039567615300074\n",
      "epoch = 6\n",
      "Train loss: 9.02819685934362\n",
      "Test loss: 9.02696342594285\n",
      "epoch = 7\n",
      "Train loss: 9.032358162217271\n",
      "Test loss: 9.016234759216978\n",
      "epoch = 8\n",
      "Train loss: 9.012764911608974\n",
      "Test loss: 9.00971246215297\n",
      "epoch = 9\n",
      "Train loss: 9.01509549850613\n",
      "Test loss: 8.996788938872507\n",
      "epoch = 10\n",
      "Train loss: 8.965272841023443\n",
      "Test loss: 9.001757612244443\n",
      "epoch = 11\n",
      "Train loss: 8.945499479146228\n",
      "Test loss: 8.990581238243559\n",
      "epoch = 12\n",
      "Train loss: 8.937522540837653\n",
      "Test loss: 8.984087802296964\n",
      "epoch = 13\n",
      "Train loss: 8.92108054276516\n",
      "Test loss: 8.979563479865146\n",
      "epoch = 14\n",
      "Train loss: 8.903755834168667\n",
      "Test loss: 8.970700291057666\n",
      "epoch = 15\n",
      "Train loss: 8.916754612087422\n",
      "Test loss: 8.967528646528828\n",
      "epoch = 16\n",
      "Train loss: 8.882790531047405\n",
      "Test loss: 8.970948957254404\n",
      "epoch = 17\n",
      "Train loss: 8.884022996161265\n",
      "Test loss: 8.959271917215965\n",
      "epoch = 18\n",
      "Train loss: 8.889399309251479\n",
      "Test loss: 8.964585639291558\n",
      "epoch = 19\n",
      "Train loss: 8.8480924163449\n",
      "Test loss: 8.958368760961317\n",
      "epoch = 20\n",
      "Train loss: 8.841342505354746\n",
      "Test loss: 8.958065269355076\n",
      "\n"
     ]
    },
    {
     "data": {
      "image/png": "[encoded data removed]",
      "text/plain": [
       "<Figure size 432x288 with 1 Axes>"
      ]
     },
     "metadata": {
      "needs_background": "light"
     },
     "output_type": "display_data"
    }
   ],
   "source": [
    "train_set = RegressionDataset(torch.FloatTensor(X_train), torch.FloatTensor(y_train))\n",
    "val_set = RegressionDataset(torch.FloatTensor(x_val), torch.FloatTensor(y_val))\n",
    "test_set = RegressionDataset(torch.FloatTensor(X_test), torch.FloatTensor(y_test))\n",
    "set_random_seed(1)\n",
    "train_dataloader = torch.utils.data.DataLoader(train_set, batch_size=250, shuffle=True)\n",
    "val_dataloader = torch.utils.data.DataLoader(val_set, batch_size=250, shuffle=False)\n",
    "test_dataloader = torch.utils.data.DataLoader(test_set, batch_size=250, shuffle=False)\n",
    "\n",
    "model = ConvNet0()\n",
    "criterion = nn.MSELoss()\n",
    "optimizer = torch.optim.Adam(model.parameters(), lr=0.0001) #оптимизатор\n",
    "\n",
    "set_random_seed(1)\n",
    "train(model, optimizer, criterion, train_dataloader, test_dataloader, val_dataloader, 20)"
   ]
  },
  {
   "cell_type": "markdown",
   "metadata": {},
   "source": [
    "Вывод: при увеличении только этого параетра качество ухудшилось. Вероятно, при большем батче модель нужно обучать большее число эпох либо задавать шаг lr побольше. Но поскольку с 64 всё налажено, то в этой работе я работала именно с таким batch_size."
   ]
  },
  {
   "cell_type": "code",
   "execution_count": null,
   "metadata": {},
   "outputs": [],
   "source": []
  }
 ],
 "metadata": {
  "colab": {
   "collapsed_sections": [],
   "name": "intro-hw01.ipynb",
   "provenance": []
  },
  "kernelspec": {
   "display_name": "Python 3",
   "language": "python",
   "name": "python3"
  },
  "language_info": {
   "codemirror_mode": {
    "name": "ipython",
    "version": 3
   },
   "file_extension": ".py",
   "mimetype": "text/x-python",
   "name": "python",
   "nbconvert_exporter": "python",
   "pygments_lexer": "ipython3",
   "version": "3.8.5"
  }
 },
 "nbformat": 4,
 "nbformat_minor": 4
}
